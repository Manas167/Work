{
 "cells": [
  {
   "cell_type": "code",
   "execution_count": 20,
   "metadata": {
    "collapsed": true
   },
   "outputs": [],
   "source": [
    "from pymongo import MongoClient\n",
    "client = MongoClient()"
   ]
  },
  {
   "cell_type": "code",
   "execution_count": 21,
   "metadata": {
    "collapsed": false
   },
   "outputs": [],
   "source": [
    "db = client.EmployeeData"
   ]
  },
  {
   "cell_type": "code",
   "execution_count": 26,
   "metadata": {
    "collapsed": false
   },
   "outputs": [
    {
     "ename": "SyntaxError",
     "evalue": "invalid syntax (<ipython-input-26-eae264cbf206>, line 18)",
     "output_type": "error",
     "traceback": [
      "\u001b[1;36m  File \u001b[1;32m\"<ipython-input-26-eae264cbf206>\"\u001b[1;36m, line \u001b[1;32m18\u001b[0m\n\u001b[1;33m    print str(e)\u001b[0m\n\u001b[1;37m            ^\u001b[0m\n\u001b[1;31mSyntaxError\u001b[0m\u001b[1;31m:\u001b[0m invalid syntax\n"
     ]
    }
   ],
   "source": [
    "def insert():\n",
    "    try:\n",
    "        employeeId = raw_input('Enter Employee id :')\n",
    "        employeeName = raw_input('Enter Name :')\n",
    "        employeeAge = raw_input('Enter age :')\n",
    "        employeeCountry = raw_input('Enter Country :')\n",
    "\n",
    "        db.Employees.insert_one(\n",
    "            {\n",
    "            \"id\": employeeId,\n",
    "                \"name\":employeeName,\n",
    "            \"age\":employeeAge,\n",
    "            \"country\":employeeCountry\n",
    "            })\n",
    "       \n",
    "    \n",
    "    except Exception:\n",
    "        print str(e)"
   ]
  },
  {
   "cell_type": "code",
   "execution_count": null,
   "metadata": {
    "collapsed": true
   },
   "outputs": [],
   "source": []
  }
 ],
 "metadata": {
  "anaconda-cloud": {},
  "kernelspec": {
   "display_name": "Python [conda env:py35]",
   "language": "python",
   "name": "conda-env-py35-py"
  },
  "language_info": {
   "codemirror_mode": {
    "name": "ipython",
    "version": 3
   },
   "file_extension": ".py",
   "mimetype": "text/x-python",
   "name": "python",
   "nbconvert_exporter": "python",
   "pygments_lexer": "ipython3",
   "version": "3.5.3"
  }
 },
 "nbformat": 4,
 "nbformat_minor": 0
}
