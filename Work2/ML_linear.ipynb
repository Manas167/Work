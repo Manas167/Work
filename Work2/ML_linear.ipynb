{
 "cells": [
  {
   "cell_type": "code",
   "execution_count": 610,
   "metadata": {},
   "outputs": [],
   "source": [
    "import pandas as pd\n",
    "import numpy as np\n",
    "import random\n",
    "import os\n",
    "from scipy import signal\n",
    "import statsmodels\n",
    "from scipy.stats import norm\n",
    "from math import factorial\n",
    "import time\n",
    "from scipy import stats\n",
    "import scipy as scipy\n",
    "import seaborn as sns\n",
    "import warnings\n",
    "warnings.filterwarnings(\"ignore\")\n",
    "pd.options.display.float_format = '{:,.6f}'.format\n",
    "np.set_printoptions(threshold=5)\n",
    "import matplotlib\n",
    "import matplotlib.pyplot as plt\n",
    "%matplotlib inline\n",
    "from matplotlib.pyplot import figure\n",
    "from sklearn import neighbors\n",
    "import statsmodels.api as sm\n",
    "from sklearn.metrics import confusion_matrix"
   ]
  },
  {
   "cell_type": "code",
   "execution_count": 611,
   "metadata": {},
   "outputs": [],
   "source": [
    "import os\n",
    "from pandas_datareader import data as pdr\n",
    "import pandas as pd\n",
    "import yfinance as yf\n",
    "from sklearn import decomposition\n",
    "from sklearn.decomposition import SparsePCA\n",
    "from sklearn.linear_model import RANSACRegressor\n",
    "\n",
    "yf.pdr_override()\n",
    "\n",
    "START_DATE = \"2010-01-01\"\n",
    "END_DATE = \"2015-01-01\""
   ]
  },
  {
   "cell_type": "code",
   "execution_count": 612,
   "metadata": {},
   "outputs": [],
   "source": [
    "tickers_mapping = pd.read_csv('Tickers.csv',  encoding='latin-1')\n",
    "tickers_sorted = tickers_mapping.sort_values(['Sector']).Symbol\n",
    "tickers_mapping.index = tickers_mapping['Symbol']"
   ]
  },
  {
   "cell_type": "code",
   "execution_count": 613,
   "metadata": {},
   "outputs": [],
   "source": [
    "prices = pd.read_csv('stocks.csv')\n",
    "prices.index = pd.DatetimeIndex(prices['Unnamed: 0'])\n",
    "prices = prices.iloc[:,1:]\n",
    "index = pd.read_csv('index.csv')\n",
    "index.index = pd.DatetimeIndex(index['Date'])\n",
    "raw_prices = pd.concat([prices, index['Adj Close'].rename('INDEX')], axis=1)        \n",
    "\n",
    "returns = raw_prices.pct_change(1)\n",
    "std_returns = returns.div(returns.std(0), 1)\n",
    "\n",
    "betas = ((returns.rolling(60).corr(returns['INDEX']))*\\\n",
    "                            (returns.rolling(60).std().div(returns['INDEX'].rolling(60).std(),axis = 0))).shift(1)\n",
    "idio_returns = returns - betas.mul(returns['INDEX'], axis = 0)\n",
    "idio_std_returns = idio_returns.div(idio_returns.std(0), 1)"
   ]
  },
  {
   "cell_type": "code",
   "execution_count": 644,
   "metadata": {},
   "outputs": [],
   "source": [
    "prices = pd.read_csv('stocks2.csv')\n",
    "prices.index = pd.DatetimeIndex(prices['Unnamed: 0'])\n",
    "prices = prices.iloc[:,1:]\n",
    "index = pd.read_csv('index2.csv')\n",
    "index.index = pd.DatetimeIndex(index['Date'])\n",
    "raw_prices2 = pd.concat([prices, index['Adj Close'].rename('INDEX')], axis=1)        \n",
    "\n",
    "returns2 = raw_prices2.pct_change(1)\n",
    "std_returns2 = returns2.div(returns2.std(0), 1)\n",
    "\n",
    "betas2 = ((returns2.rolling(60).corr(returns2['INDEX']))*\\\n",
    "                            (returns2.rolling(60).std().div(returns2['INDEX'].rolling(60).std(),axis = 0))).shift(1)\n",
    "idio_returns2 = returns2 - betas2.mul(returns2['INDEX'], axis = 0)\n",
    "idio_std_returns2 = idio_returns2.div(idio_returns2.std(0), 1)"
   ]
  },
  {
   "cell_type": "code",
   "execution_count": 645,
   "metadata": {},
   "outputs": [],
   "source": [
    "clean_returns = returns.loc[:,tickers_sorted].dropna(0, how = 'all').dropna(1)\n",
    "clean_idio_returns = idio_returns.loc[:,tickers_sorted].dropna(0, how = 'all').dropna(1)\n",
    "clean_idio_std_returns = idio_std_returns.loc[:,tickers_sorted].dropna(0, how = 'all').dropna(1)\n",
    "\n",
    "clean_returns2 = returns2.loc[:,tickers_sorted].dropna(0, how = 'all').dropna(1)\n",
    "clean_idio_returns2 = idio_returns2.loc[:,tickers_sorted].dropna(0, how = 'all').dropna(1)\n",
    "clean_idio_std_returns2 = idio_std_returns2.loc[:,tickers_sorted].dropna(0, how = 'all').dropna(1)"
   ]
  },
  {
   "cell_type": "code",
   "execution_count": 646,
   "metadata": {},
   "outputs": [],
   "source": [
    "clean_returns = clean_returns.loc[:,list(set(clean_idio_returns.columns) & set(clean_idio_returns2.columns))]\n",
    "clean_idio_returns = clean_idio_returns.loc[:,list(set(clean_idio_returns.columns) & set(clean_idio_returns2.columns))]\n",
    "clean_idio_std_returns = clean_idio_std_returns.loc[:,list(set(clean_idio_returns.columns) & set(clean_idio_returns2.columns))]\n",
    "\n",
    "clean_returns2 = clean_returns2.loc[:,list(set(clean_idio_returns.columns) & set(clean_idio_returns2.columns))]\n",
    "clean_idio_returns2 = clean_idio_returns2.loc[:,list(set(clean_idio_returns.columns) & set(clean_idio_returns2.columns))]\n",
    "clean_idio_std_returns2 = clean_idio_std_returns2.loc[:,list(set(clean_idio_returns.columns)&set(clean_idio_returns2.columns))]"
   ]
  },
  {
   "cell_type": "code",
   "execution_count": 647,
   "metadata": {},
   "outputs": [
    {
     "data": {
      "text/plain": [
       "((1197, 447), (1198, 447))"
      ]
     },
     "execution_count": 647,
     "metadata": {},
     "output_type": "execute_result"
    }
   ],
   "source": [
    "clean_idio_std_returns.shape, clean_idio_std_returns2.shape"
   ]
  },
  {
   "cell_type": "markdown",
   "metadata": {},
   "source": [
    "Model"
   ]
  },
  {
   "cell_type": "code",
   "execution_count": 906,
   "metadata": {},
   "outputs": [],
   "source": [
    "input_returns = clean_idio_std_returns\n",
    "lags = 5\n",
    "iteration = 1\n",
    "stock = 'MSFT'\n",
    "returns_table = input_returns.iloc[iteration:].rolling(lags).mean()[::lags]\n",
    "rhs = returns_table.shift(1).dropna()\n",
    "lhs = returns_table[[stock]].reindex(rhs.index)\n",
    "lhs = pd.DataFrame(np.where(lhs > 0.0, 1, 0), index = lhs.index, columns = lhs.columns)"
   ]
  },
  {
   "cell_type": "code",
   "execution_count": 907,
   "metadata": {},
   "outputs": [
    {
     "data": {
      "text/html": [
       "<div>\n",
       "<style scoped>\n",
       "    .dataframe tbody tr th:only-of-type {\n",
       "        vertical-align: middle;\n",
       "    }\n",
       "\n",
       "    .dataframe tbody tr th {\n",
       "        vertical-align: top;\n",
       "    }\n",
       "\n",
       "    .dataframe thead th {\n",
       "        text-align: right;\n",
       "    }\n",
       "</style>\n",
       "<table border=\"1\" class=\"dataframe\">\n",
       "  <thead>\n",
       "    <tr style=\"text-align: right;\">\n",
       "      <th></th>\n",
       "      <th>0</th>\n",
       "    </tr>\n",
       "  </thead>\n",
       "  <tbody>\n",
       "    <tr>\n",
       "      <th>GPS</th>\n",
       "      <td>0.144129</td>\n",
       "    </tr>\n",
       "    <tr>\n",
       "      <th>IBM</th>\n",
       "      <td>-0.415124</td>\n",
       "    </tr>\n",
       "    <tr>\n",
       "      <th>SLB</th>\n",
       "      <td>0.144085</td>\n",
       "    </tr>\n",
       "    <tr>\n",
       "      <th>UHS</th>\n",
       "      <td>-0.022647</td>\n",
       "    </tr>\n",
       "  </tbody>\n",
       "</table>\n",
       "</div>"
      ],
      "text/plain": [
       "            0\n",
       "GPS  0.144129\n",
       "IBM -0.415124\n",
       "SLB  0.144085\n",
       "UHS -0.022647"
      ]
     },
     "execution_count": 907,
     "metadata": {},
     "output_type": "execute_result"
    }
   ],
   "source": [
    "log_model = linear_model.LogisticRegression(penalty = 'elasticnet', max_iter = 500, l1_ratio = 1, \\\n",
    "                                            C = 0.12, solver='saga').fit(rhs, lhs)\n",
    "\n",
    "coefs = log_model.coef_\n",
    "coefs_df = pd.DataFrame(coefs, columns= rhs.columns)\n",
    "rhs.shape, log_model.n_iter_, coefs_df[coefs_df != 0].dropna(1).count().sum()\n",
    "coefs_df[coefs_df != 0].dropna(1).T.sort_index()"
   ]
  },
  {
   "cell_type": "code",
   "execution_count": 908,
   "metadata": {},
   "outputs": [],
   "source": [
    "input_returns = clean_idio_std_returns\n",
    "lags = 5\n",
    "iteration = 1\n",
    "stock = 'MSFT'\n",
    "returns_table = input_returns.iloc[iteration:].rolling(lags).mean()[::lags]\n",
    "rhs = returns_table.shift(1).dropna()\n",
    "lhs = returns_table[[stock]].reindex(rhs.index)"
   ]
  },
  {
   "cell_type": "code",
   "execution_count": 910,
   "metadata": {},
   "outputs": [
    {
     "name": "stdout",
     "output_type": "stream",
     "text": [
      "."
     ]
    },
    {
     "data": {
      "text/plain": [
       "C       0.000450\n",
       "IBM    -0.024993\n",
       "INTU   -0.006942\n",
       "UHS    -0.018238\n",
       "Name: 4, dtype: float64"
      ]
     },
     "execution_count": 910,
     "metadata": {},
     "output_type": "execute_result"
    }
   ],
   "source": [
    "alphas, __, coefs = linear_model.lars_path(np.array(rhs), np.array(lhs).T[0], method='lasso', verbose=True)\n",
    "coefs_df = pd.DataFrame(coefs.T, columns= rhs.columns).T[4]\n",
    "coefs_df[coefs_df != 0].T.sort_index()"
   ]
  },
  {
   "cell_type": "code",
   "execution_count": 719,
   "metadata": {},
   "outputs": [],
   "source": [
    "def lasso_two_steps(input_returns, output_returns, stock_list, lags, iteration, indicator, plot_this = False):\n",
    "    \n",
    "    output = {}\n",
    "    output_coefs = {}\n",
    "    \n",
    "    for stock in stock_list:\n",
    "        \n",
    "        returns_table = input_returns.iloc[iteration:].rolling(lags).mean()[::lags]\n",
    "        rhs = returns_table.shift(1).dropna()\n",
    "        lhs = returns_table[[stock]].reindex(rhs.index)\n",
    "        alphas, __, coefs = linear_model.lars_path(np.array(rhs), np.array(lhs).T[0], method='lasso', verbose=True)\n",
    "\n",
    "        if plot_this == True:\n",
    "            xx = np.sum(np.abs(coefs.T), axis=1)\n",
    "            xx /= xx[-1]\n",
    "            plt.plot(xx, coefs.T)\n",
    "            ymin, ymax = plt.ylim()\n",
    "            plt.vlines(xx, ymin, ymax, linestyle='dashed')\n",
    "            plt.xlabel('|coef| / max|coef|')\n",
    "            plt.ylabel('Coefficients')\n",
    "            plt.title('LASSO Path')\n",
    "            plt.axis('tight')\n",
    "            plt.show()\n",
    "\n",
    "        coefs_df = pd.DataFrame(coefs.T, columns= rhs.columns).T[indicator]\n",
    "        selected_coefs = coefs_df[coefs_df != 0].index\n",
    "        \n",
    "        ransac = RANSACRegressor(random_state=0, min_samples=0.2, max_trials=500, \\\n",
    "                 loss = 'absolute_loss', stop_n_inliers = 0.8*len(rhs[selected_coefs])).fit(rhs[selected_coefs], lhs)\n",
    "        print(ransac.n_trials_, rhs[selected_coefs].shape, rhs[selected_coefs][ransac.inlier_mask_].shape)\n",
    "        lm_ins = sm.OLS(lhs[ransac.inlier_mask_], \\\n",
    "                                  sm.add_constant(rhs[selected_coefs][ransac.inlier_mask_])).fit()\n",
    "        lm_outs = sm.OLS(lhs[np.logical_not(ransac.inlier_mask_)], \\\n",
    "                                  sm.add_constant(rhs[selected_coefs][np.logical_not(ransac.inlier_mask_)])).fit()\n",
    "\n",
    "        linear_reg_model = sm.OLS(lhs, sm.add_constant(rhs[selected_coefs])).fit()  \n",
    "        if plot_this == True:\n",
    "            print(linear_reg_model.summary())\n",
    "            print(lm_ins.summary())\n",
    "            print(lm_outs.summary())\n",
    "            print(pd.concat([pd.DataFrame(linear_reg_model.params), \\\n",
    "                             pd.DataFrame(lm_ins.params), \\\n",
    "                             pd.DataFrame(lm_outs.params)], 1))\n",
    "\n",
    "        final_model = lm_ins\n",
    "        rhs = output_returns.rolling(lags).mean().shift(1).dropna()\n",
    "        lhs = output_returns[[stock]].reindex(rhs.index) \n",
    "        y_pred = final_model.predict(sm.add_constant(rhs[selected_coefs]))\n",
    "        y_actual = lhs\n",
    "\n",
    "        output[stock] = pd.DataFrame(columns= ['pred', 'actual'])\n",
    "        output_coefs[stock] = pd.DataFrame(columns= ['coefs', 'tvals'])\n",
    "        output[stock]['pred'] = y_pred\n",
    "        output[stock]['actual'] = y_actual\n",
    "        output_coefs[stock]['coefs'] = final_model.params\n",
    "        output_coefs[stock]['tvals'] = final_model.tvalues\n",
    "        output_coefs[stock]['coefs_explain'] = tickers_mapping.loc[final_model.params.index].Sector\n",
    "\n",
    "    linear_model_output = pd.concat(output, 1)\n",
    "    linear_model_output_coefs = pd.concat(output_coefs, 1)\n",
    "    \n",
    "    return linear_model_output, linear_model_output_coefs"
   ]
  },
  {
   "cell_type": "code",
   "execution_count": 720,
   "metadata": {},
   "outputs": [],
   "source": [
    "def classify_results(table):\n",
    "    table = table[(table['actual'] != 0) & table['pred'] != 0]\n",
    "    classify_table = table/abs(table)\n",
    "    c_matrix = confusion_matrix(classify_table['actual'], classify_table['pred'])\n",
    "    c_matrix = c_matrix/(c_matrix.sum().sum())\n",
    "    c_matrix = c_matrix.ravel()\n",
    "    return (c_matrix[0] + c_matrix[3])"
   ]
  },
  {
   "cell_type": "code",
   "execution_count": 721,
   "metadata": {},
   "outputs": [],
   "source": [
    "def reg_results(table):\n",
    "    return abs(table['actual']).median() - abs(table['pred'] - table['actual']).median()"
   ]
  },
  {
   "cell_type": "code",
   "execution_count": 722,
   "metadata": {
    "scrolled": true
   },
   "outputs": [
    {
     "name": "stdout",
     "output_type": "stream",
     "text": [
      ".500 (237, 10) (131, 10)\n",
      ".500 (237, 10) (134, 10)\n",
      ".500 (237, 10) (133, 10)\n",
      ".500 (237, 10) (124, 10)\n",
      ".500 (237, 10) (138, 10)\n",
      ".500 (237, 10) (131, 10)\n",
      ".500 (237, 10) (140, 10)\n",
      ".500 (237, 10) (133, 10)\n",
      ".500 (237, 10) (124, 10)\n",
      ".500 (237, 10) (127, 10)\n",
      ".500 (237, 11) (131, 11)\n",
      ".500 (237, 11) (134, 11)\n",
      ".500 (237, 11) (134, 11)\n",
      ".500 (237, 11) (125, 11)\n",
      ".500 (237, 11) (139, 11)\n",
      ".500 (237, 11) (127, 11)\n",
      ".500 (237, 11) (138, 11)\n",
      ".500 (237, 11) (134, 11)\n",
      ".500 (237, 11) (119, 11)\n",
      ".500 (237, 11) (129, 11)\n",
      ".500 (237, 12) (131, 12)\n",
      ".500 (237, 12) (133, 12)\n",
      ".500 (237, 12) (131, 12)\n",
      ".500 (237, 12) (127, 12)\n",
      ".500 (237, 12) (141, 12)\n",
      ".500 (237, 12) (128, 12)\n",
      ".500 (237, 12) (139, 12)\n",
      ".500 (237, 12) (132, 12)\n",
      ".500 (237, 12) (119, 12)\n",
      ".500 (237, 12) (127, 12)\n",
      ".500 (237, 13) (129, 13)\n",
      ".500 (237, 13) (133, 13)\n",
      ".500 (237, 13) (130, 13)\n",
      ".500 (237, 13) (127, 13)\n",
      ".500 (237, 13) (141, 13)\n",
      ".500 (237, 13) (126, 13)\n",
      ".500 (237, 13) (137, 13)\n",
      ".500 (237, 13) (134, 13)\n",
      ".500 (237, 13) (117, 13)\n",
      ".500 (237, 13) (128, 13)\n",
      ".500 (237, 14) (137, 14)\n",
      ".500 (237, 14) (132, 14)\n",
      ".500 (237, 14) (135, 14)\n",
      ".500 (237, 14) (128, 14)\n",
      ".500 (237, 14) (137, 14)\n",
      ".500 (237, 14) (132, 14)\n",
      ".500 (237, 14) (140, 14)\n",
      ".500 (237, 14) (136, 14)\n",
      ".500 (237, 14) (115, 14)\n",
      ".500 (237, 14) (133, 14)\n",
      ".500 (237, 15) (136, 15)\n",
      ".500 (237, 15) (137, 15)\n",
      ".500 (237, 15) (133, 15)\n",
      ".500 (237, 15) (129, 15)\n",
      ".500 (237, 15) (138, 15)\n",
      ".500 (237, 15) (128, 15)\n",
      ".500 (237, 15) (138, 15)\n",
      ".500 (237, 15) (138, 15)\n",
      ".500 (237, 15) (115, 15)\n",
      ".500 (237, 15) (132, 15)\n",
      ".500 (237, 16) (133, 16)\n",
      ".500 (237, 16) (136, 16)\n",
      ".500 (237, 16) (137, 16)\n",
      ".500 (237, 16) (124, 16)\n",
      ".500 (237, 16) (142, 16)\n",
      ".500 (237, 16) (128, 16)\n",
      ".500 (237, 16) (137, 16)\n",
      ".500 (237, 16) (144, 16)\n",
      ".500 (237, 16) (115, 16)\n",
      ".500 (237, 16) (131, 16)\n",
      ".500 (237, 17) (133, 17)\n",
      ".500 (237, 17) (138, 17)\n",
      ".500 (237, 17) (137, 17)\n",
      ".500 (237, 17) (118, 17)\n",
      ".500 (237, 17) (142, 17)\n",
      ".500 (237, 17) (128, 17)\n",
      ".500 (237, 17) (141, 17)\n",
      ".500 (237, 17) (137, 17)\n",
      ".500 (237, 17) (116, 17)\n",
      ".500 (237, 17) (128, 17)\n",
      ".500 (237, 18) (132, 18)\n",
      ".500 (237, 18) (137, 18)\n",
      ".500 (237, 18) (137, 18)\n",
      ".500 (237, 18) (125, 18)\n",
      ".500 (237, 18) (141, 18)\n",
      ".500 (237, 18) (127, 18)\n",
      ".500 (237, 18) (143, 18)\n",
      ".500 (237, 18) (139, 18)\n",
      ".500 (237, 18) (116, 18)\n",
      ".500 (237, 18) (126, 18)\n",
      ".500 (237, 19) (131, 19)\n",
      ".500 (237, 19) (136, 19)\n",
      ".500 (237, 19) (136, 19)\n",
      ".500 (237, 19) (118, 19)\n",
      ".500 (237, 19) (137, 19)\n",
      ".500 (237, 19) (127, 19)\n",
      ".500 (237, 19) (141, 19)\n",
      ".500 (237, 19) (137, 19)\n",
      ".500 (237, 19) (118, 19)\n",
      ".500 (237, 19) (126, 19)\n",
      ".500 (237, 20) (136, 20)\n",
      ".500 (237, 20) (138, 20)\n",
      ".500 (237, 20) (138, 20)\n",
      ".500 (237, 20) (117, 20)\n",
      ".500 (237, 20) (139, 20)\n",
      ".500 (237, 20) (126, 20)\n",
      ".500 (237, 20) (139, 20)\n",
      ".500 (237, 20) (138, 20)\n",
      ".500 (237, 20) (117, 20)\n",
      ".500 (237, 20) (120, 20)\n",
      ".500 (237, 21) (132, 21)\n",
      ".500 (237, 21) (139, 21)\n",
      ".500 (237, 21) (135, 21)\n",
      ".500 (237, 21) (116, 21)\n",
      ".500 (237, 20) (138, 20)\n",
      ".500 (237, 21) (125, 21)\n",
      ".500 (237, 21) (142, 21)\n",
      ".500 (237, 21) (136, 21)\n",
      ".500 (237, 21) (119, 21)\n",
      ".500 (237, 21) (124, 21)\n",
      ".500 (237, 22) (139, 22)\n",
      ".500 (237, 22) (137, 22)\n",
      ".500 (237, 22) (133, 22)\n",
      ".500 (237, 22) (115, 22)\n",
      ".500 (237, 20) (138, 20)\n",
      ".500 (237, 22) (125, 22)\n",
      ".500 (237, 22) (139, 22)\n",
      ".500 (237, 22) (137, 22)\n",
      ".500 (237, 22) (117, 22)\n",
      ".500 (237, 22) (119, 22)\n",
      ".500 (237, 23) (135, 23)\n",
      ".500 (237, 23) (137, 23)\n",
      ".500 (237, 23) (131, 23)\n",
      ".500 (237, 23) (114, 23)\n",
      ".500 (237, 21) (141, 21)\n",
      ".500 (237, 23) (125, 23)\n",
      ".500 (237, 23) (142, 23)\n",
      ".500 (237, 23) (136, 23)\n",
      ".500 (237, 23) (118, 23)\n",
      ".500 (237, 23) (125, 23)\n",
      ".500 (237, 24) (135, 24)\n",
      ".500 (237, 24) (135, 24)\n",
      ".500 (237, 24) (130, 24)\n",
      ".500 (237, 24) (112, 24)\n",
      ".500 (237, 22) (138, 22)\n",
      ".500 (237, 24) (125, 24)\n",
      ".500 (237, 24) (140, 24)\n",
      ".500 (237, 24) (136, 24)\n",
      ".500 (237, 24) (117, 24)\n",
      ".500 (237, 24) (119, 24)\n",
      ".500 (237, 25) (140, 25)\n",
      ".500 (237, 25) (133, 25)\n",
      ".500 (237, 25) (136, 25)\n",
      ".500 (237, 25) (113, 25)\n",
      ".500 (237, 23) (133, 23)\n",
      ".500 (237, 25) (125, 25)\n",
      ".500 (237, 25) (139, 25)\n",
      ".500 (237, 25) (135, 25)\n",
      ".500 (237, 25) (115, 25)\n",
      ".500 (237, 25) (123, 25)\n",
      ".500 (237, 26) (138, 26)\n",
      ".500 (237, 26) (130, 26)\n",
      ".500 (237, 26) (135, 26)\n",
      ".500 (237, 26) (113, 26)\n",
      ".500 (237, 24) (130, 24)\n",
      ".500 (237, 26) (127, 26)\n",
      ".500 (237, 26) (141, 26)\n",
      ".500 (237, 26) (129, 26)\n",
      ".500 (237, 26) (119, 26)\n",
      ".500 (237, 26) (118, 26)\n",
      ".500 (237, 27) (139, 27)\n",
      ".500 (237, 27) (131, 27)\n",
      ".500 (237, 27) (132, 27)\n",
      ".500 (237, 27) (115, 27)\n",
      ".500 (237, 25) (131, 25)\n",
      ".500 (237, 27) (123, 27)\n",
      ".500 (237, 27) (144, 27)\n",
      ".500 (237, 27) (129, 27)\n",
      ".500 (237, 27) (115, 27)\n",
      ".500 (237, 27) (123, 27)\n",
      ".500 (237, 28) (135, 28)\n",
      ".500 (237, 28) (130, 28)\n",
      ".500 (237, 28) (132, 28)\n",
      ".500 (237, 28) (117, 28)\n",
      ".500 (237, 26) (128, 26)\n",
      ".500 (237, 28) (125, 28)\n",
      ".500 (237, 28) (142, 28)\n",
      ".500 (237, 28) (129, 28)\n",
      ".500 (237, 28) (120, 28)\n",
      ".500 (237, 28) (123, 28)\n",
      ".500 (237, 29) (132, 29)\n",
      ".500 (237, 29) (135, 29)\n",
      ".500 (237, 29) (139, 29)\n",
      ".500 (237, 29) (118, 29)\n",
      ".500 (237, 27) (129, 27)\n",
      ".500 (237, 29) (128, 29)\n",
      ".500 (237, 29) (141, 29)\n",
      ".500 (237, 29) (135, 29)\n",
      ".500 (237, 29) (119, 29)\n",
      ".500 (237, 29) (122, 29)\n",
      ".500 (237, 30) (129, 30)\n",
      ".500 (237, 30) (133, 30)\n",
      ".500 (237, 30) (132, 30)\n",
      ".500 (237, 30) (116, 30)\n",
      ".500 (237, 28) (130, 28)\n",
      ".500 (237, 30) (127, 30)\n",
      ".500 (237, 30) (139, 30)\n",
      ".500 (237, 30) (137, 30)\n",
      ".500 (237, 30) (114, 30)\n",
      ".500 (237, 30) (121, 30)\n",
      ".500 (237, 31) (131, 31)\n",
      ".500 (237, 30) (132, 30)\n",
      ".500 (237, 31) (133, 31)\n",
      ".500 (237, 31) (113, 31)\n",
      ".500 (237, 29) (129, 29)\n",
      ".500 (237, 31) (124, 31)\n",
      ".500 (237, 31) (138, 31)\n",
      ".500 (237, 31) (137, 31)\n",
      ".500 (237, 31) (112, 31)\n",
      ".500 (237, 31) (117, 31)\n",
      ".500 (237, 32) (129, 32)\n",
      ".500 (237, 30) (132, 30)\n",
      ".500 (237, 32) (130, 32)\n",
      ".500 (237, 32) (113, 32)\n",
      ".500 (237, 30) (128, 30)\n",
      ".500 (237, 32) (124, 32)\n",
      ".500 (237, 32) (135, 32)\n",
      ".500 (237, 32) (141, 32)\n",
      ".500 (237, 32) (111, 32)\n",
      ".500 (237, 32) (122, 32)\n",
      ".500 (237, 33) (129, 33)\n",
      ".500 (237, 31) (131, 31)\n",
      ".500 (237, 33) (130, 33)\n",
      ".500 (237, 33) (112, 33)\n",
      ".500 (237, 31) (128, 31)\n",
      ".500 (237, 32) (129, 32)\n",
      ".500 (237, 33) (136, 33)\n",
      ".500 (237, 33) (141, 33)\n",
      ".500 (237, 33) (108, 33)\n",
      ".500 (237, 33) (119, 33)\n",
      ".500 (237, 34) (124, 34)\n",
      ".500 (237, 32) (132, 32)\n",
      ".500 (237, 34) (128, 34)\n",
      ".500 (237, 34) (119, 34)\n",
      ".500 (237, 32) (134, 32)\n",
      ".500 (237, 32) (129, 32)\n",
      ".500 (237, 34) (140, 34)\n",
      ".500 (237, 34) (134, 34)\n",
      ".500 (237, 34) (114, 34)\n",
      ".500 (237, 34) (120, 34)\n",
      ".500 (237, 35) (129, 35)\n",
      ".500 (237, 33) (129, 33)\n",
      ".500 (237, 34) (127, 34)\n",
      ".500 (237, 35) (116, 35)\n",
      ".500 (237, 33) (128, 33)\n",
      ".500 (237, 33) (127, 33)\n",
      ".500 (237, 35) (139, 35)\n",
      ".500 (237, 35) (133, 35)\n",
      ".500 (237, 35) (117, 35)\n",
      ".500 (237, 35) (114, 35)\n",
      ".500 (237, 36) (126, 36)\n",
      ".500 (237, 34) (127, 34)\n",
      ".500 (237, 34) (127, 34)\n",
      ".500 (237, 36) (116, 36)\n",
      ".500 (237, 34) (123, 34)\n",
      ".500 (237, 34) (122, 34)\n",
      ".500 (237, 35) (135, 35)\n",
      ".500 (237, 36) (132, 36)\n",
      ".500 (237, 36) (114, 36)\n",
      ".500 (237, 36) (115, 36)\n",
      ".500 (237, 37) (130, 37)\n",
      ".500 (237, 35) (136, 35)\n",
      ".500 (237, 35) (127, 35)\n",
      ".500 (237, 37) (111, 37)\n",
      ".500 (237, 35) (128, 35)\n",
      ".500 (237, 35) (125, 35)\n",
      ".500 (237, 35) (135, 35)\n",
      ".500 (237, 37) (127, 37)\n",
      ".500 (237, 37) (114, 37)\n",
      ".500 (237, 37) (114, 37)\n",
      ".500 (237, 38) (122, 38)\n",
      ".500 (237, 36) (126, 36)\n",
      ".500 (237, 36) (126, 36)\n",
      ".500 (237, 38) (114, 38)\n",
      ".500 (237, 36) (126, 36)\n",
      ".500 (237, 36) (120, 36)\n",
      ".500 (237, 36) (138, 36)\n",
      ".500 (237, 38) (131, 38)\n",
      ".500 (237, 38) (110, 38)\n",
      ".500 (237, 38) (116, 38)\n",
      ".500 (237, 39) (125, 39)\n",
      ".500 (237, 37) (129, 37)\n",
      ".500 (237, 37) (125, 37)\n",
      ".500 (237, 39) (114, 39)\n",
      ".500 (237, 37) (125, 37)\n",
      ".500 (237, 37) (119, 37)\n",
      ".500 (237, 37) (135, 37)\n",
      ".500 (237, 39) (122, 39)\n",
      ".500 (237, 39) (111, 39)\n",
      ".500 (237, 39) (119, 39)\n",
      ".500 (237, 40) (124, 40)\n",
      ".500 (237, 38) (126, 38)\n",
      ".500 (237, 38) (124, 38)\n",
      ".500 (237, 40) (111, 40)\n",
      ".500 (237, 38) (123, 38)\n",
      ".500 (237, 38) (120, 38)\n",
      ".500 (237, 38) (130, 38)\n",
      ".500 (237, 40) (124, 40)\n",
      ".500 (237, 40) (109, 40)\n",
      ".500 (237, 40) (116, 40)\n",
      ".500 (237, 41) (124, 41)\n",
      ".500 (237, 39) (126, 39)\n",
      ".500 (237, 39) (121, 39)\n",
      ".500 (237, 41) (117, 41)\n",
      ".500 (237, 39) (120, 39)\n",
      ".500 (237, 39) (118, 39)\n",
      ".500 (237, 39) (129, 39)\n",
      ".500 (237, 41) (125, 41)\n",
      ".500 (237, 41) (110, 41)\n",
      ".500 (237, 41) (116, 41)\n",
      ".500 (237, 42) (114, 42)\n",
      ".500 (237, 40) (128, 40)\n",
      ".500 (237, 40) (122, 40)\n",
      ".500 (237, 42) (110, 42)\n",
      ".500 (237, 40) (128, 40)\n",
      ".500 (237, 40) (128, 40)\n",
      ".500 (237, 40) (129, 40)\n",
      ".500 (237, 42) (121, 42)\n"
     ]
    },
    {
     "name": "stdout",
     "output_type": "stream",
     "text": [
      ".500 (237, 42) (110, 42)\n",
      ".500 (237, 42) (116, 42)\n",
      ".500 (237, 42) (114, 42)\n",
      ".500 (237, 41) (128, 41)\n",
      ".500 (237, 41) (134, 41)\n",
      ".500 (237, 43) (97, 43)\n",
      ".500 (237, 41) (128, 41)\n",
      ".500 (237, 41) (115, 41)\n",
      ".500 (237, 41) (127, 41)\n",
      ".500 (237, 43) (112, 43)\n",
      ".500 (237, 43) (106, 43)\n",
      ".500 (237, 43) (106, 43)\n",
      ".500 (237, 42) (114, 42)\n",
      ".500 (237, 42) (122, 42)\n",
      ".500 (237, 42) (117, 42)\n",
      ".500 (237, 44) (101, 44)\n",
      ".500 (237, 42) (126, 42)\n",
      ".500 (237, 42) (111, 42)\n",
      ".500 (237, 42) (127, 42)\n",
      ".500 (237, 44) (117, 44)\n",
      ".500 (237, 44) (104, 44)\n",
      ".500 (237, 44) (108, 44)\n",
      ".500 (237, 43) (112, 43)\n",
      ".500 (237, 43) (114, 43)\n",
      ".500 (237, 43) (116, 43)\n",
      ".500 (237, 45) (101, 45)\n",
      ".500 (237, 43) (114, 43)\n",
      ".500 (237, 43) (108, 43)\n",
      ".500 (237, 43) (119, 43)\n",
      ".500 (237, 45) (117, 45)\n",
      ".500 (237, 45) (100, 45)\n",
      ".500 (237, 45) (103, 45)\n",
      ".500 (237, 44) (117, 44)\n",
      ".500 (237, 44) (120, 44)\n",
      ".500 (237, 44) (110, 44)\n",
      ".500 (237, 46) (94, 46)\n",
      ".500 (237, 44) (115, 44)\n",
      ".500 (237, 44) (104, 44)\n",
      ".500 (237, 44) (113, 44)\n",
      ".500 (237, 46) (116, 46)\n",
      ".500 (237, 46) (98, 46)\n",
      ".500 (237, 46) (101, 46)\n",
      ".500 (237, 45) (108, 45)\n",
      ".500 (237, 45) (104, 45)\n",
      ".500 (237, 45) (107, 45)\n",
      ".500 (237, 47) (90, 47)\n",
      ".500 (237, 45) (116, 45)\n",
      ".500 (237, 44) (106, 44)\n",
      ".500 (237, 45) (111, 45)\n",
      ".500 (237, 47) (95, 47)\n",
      ".500 (237, 47) (95, 47)\n",
      ".500 (237, 47) (97, 47)\n",
      ".500 (237, 46) (103, 46)\n",
      ".500 (237, 46) (109, 46)\n",
      ".500 (237, 46) (114, 46)\n",
      ".500 (237, 48) (89, 48)\n",
      ".500 (237, 46) (119, 46)\n",
      ".500 (237, 44) (106, 44)\n",
      ".500 (237, 46) (109, 46)\n",
      ".500 (237, 48) (111, 48)\n",
      ".500 (237, 48) (95, 48)\n",
      ".500 (237, 48) (96, 48)\n",
      ".500 (237, 47) (99, 47)\n",
      ".500 (237, 47) (103, 47)\n",
      ".500 (237, 47) (95, 47)\n",
      ".500 (237, 49) (113, 49)\n",
      ".500 (237, 47) (106, 47)\n",
      ".500 (237, 45) (106, 45)\n",
      ".500 (237, 47) (100, 47)\n",
      ".500 (237, 49) (117, 49)\n",
      ".500 (237, 49) (105, 49)\n",
      ".500 (237, 49) (105, 49)\n"
     ]
    }
   ],
   "source": [
    "input_returns = clean_idio_returns\n",
    "output_returns = clean_idio_returns2\n",
    "stock_list = clean_idio_returns.columns[60:70]\n",
    "indicators_list = range(10, 50)\n",
    "reg_tests = {}\n",
    "classify_tests = {}\n",
    "\n",
    "for indicator in indicators_list:\n",
    "    linear_model_output, linear_model_output_coefs = \\\n",
    "    lasso_two_steps(input_returns, output_returns, stock_list, lags = 5, iteration = 3, indicator = indicator)\n",
    "    \n",
    "    reg_tests[indicator] = np.median([reg_results(linear_model_output[stock]) for stock in stock_list])\n",
    "    classify_tests[indicator] = np.median([classify_results(linear_model_output[stock]) for stock in stock_list])"
   ]
  },
  {
   "cell_type": "code",
   "execution_count": 723,
   "metadata": {},
   "outputs": [
    {
     "data": {
      "image/png": "[encoded data removed]",
      "text/plain": [
       "<Figure size 432x288 with 1 Axes>"
      ]
     },
     "metadata": {
      "needs_background": "light"
     },
     "output_type": "display_data"
    },
    {
     "data": {
      "image/png": "[encoded data removed]",
      "text/plain": [
       "<Figure size 432x288 with 1 Axes>"
      ]
     },
     "metadata": {
      "needs_background": "light"
     },
     "output_type": "display_data"
    }
   ],
   "source": [
    "plt.scatter(pd.Series(reg_tests).index, pd.Series(reg_tests))\n",
    "plt.show()\n",
    "plt.scatter(pd.Series(classify_tests).index, pd.Series(classify_tests))\n",
    "plt.show()"
   ]
  },
  {
   "cell_type": "code",
   "execution_count": 718,
   "metadata": {},
   "outputs": [
    {
     "data": {
      "image/png": "[encoded data removed]",
      "text/plain": [
       "<Figure size 432x288 with 1 Axes>"
      ]
     },
     "metadata": {
      "needs_background": "light"
     },
     "output_type": "display_data"
    },
    {
     "data": {
      "image/png": "[encoded data removed]",
      "text/plain": [
       "<Figure size 432x288 with 1 Axes>"
      ]
     },
     "metadata": {
      "needs_background": "light"
     },
     "output_type": "display_data"
    }
   ],
   "source": [
    "plt.scatter(pd.Series(reg_tests).index, pd.Series(reg_tests))\n",
    "plt.show()\n",
    "plt.scatter(pd.Series(classify_tests).index, pd.Series(classify_tests))\n",
    "plt.show()"
   ]
  },
  {
   "cell_type": "code",
   "execution_count": 572,
   "metadata": {},
   "outputs": [
    {
     "name": "stdout",
     "output_type": "stream",
     "text": [
      "Consumer Discretionary \n",
      " Information Technology    2\n",
      "Health Care               1\n",
      "Consumer Discretionary    1\n",
      "Name: LEG, dtype: int64\n"
     ]
    }
   ],
   "source": [
    "tmp = linear_model_output_coefs.swaplevel(0, 1, 1)['coefs_explain']\n",
    "for this_stock in stock_list:\n",
    "    print (tickers_mapping.loc[this_stock]['Sector'], '\\n', tmp[this_stock].value_counts())\n",
    "    break"
   ]
  },
  {
   "cell_type": "markdown",
   "metadata": {},
   "source": [
    "Demo"
   ]
  },
  {
   "cell_type": "code",
   "execution_count": 453,
   "metadata": {},
   "outputs": [
    {
     "name": "stderr",
     "output_type": "stream",
     "text": [
      "...................................................................................................."
     ]
    },
    {
     "data": {
      "image/png": "[encoded data removed]",
      "text/plain": [
       "<Figure size 432x288 with 1 Axes>"
      ]
     },
     "metadata": {
      "needs_background": "light"
     },
     "output_type": "display_data"
    }
   ],
   "source": [
    "from sklearn import datasets\n",
    "diabetes = datasets.load_diabetes()\n",
    "X = diabetes.data\n",
    "y = diabetes.target\n",
    "\n",
    "alphas,coefs, __ = linear_model.enet_path(X, y, l1_ratio = 0.995, method='lasso', verbose=True)\n",
    "\n",
    "xx = np.sum(np.abs(coefs.T), axis=1)\n",
    "xx /= xx[-1]\n",
    "\n",
    "plt.plot(xx, coefs.T)\n",
    "ymin, ymax = plt.ylim()\n",
    "plt.vlines(xx, ymin, ymax, linestyle='dashed')\n",
    "plt.xlabel('|coef| / max|coef|')\n",
    "plt.ylabel('Coefficients')\n",
    "plt.title('LASSO Path')\n",
    "plt.axis('tight')\n",
    "plt.show()"
   ]
  },
  {
   "cell_type": "code",
   "execution_count": 566,
   "metadata": {},
   "outputs": [
    {
     "name": "stdout",
     "output_type": "stream",
     "text": [
      "500 (442, 10) (329, 10)\n"
     ]
    },
    {
     "data": {
      "text/html": [
       "<div>\n",
       "<style scoped>\n",
       "    .dataframe tbody tr th:only-of-type {\n",
       "        vertical-align: middle;\n",
       "    }\n",
       "\n",
       "    .dataframe tbody tr th {\n",
       "        vertical-align: top;\n",
       "    }\n",
       "\n",
       "    .dataframe thead th {\n",
       "        text-align: right;\n",
       "    }\n",
       "</style>\n",
       "<table border=\"1\" class=\"dataframe\">\n",
       "  <thead>\n",
       "    <tr style=\"text-align: right;\">\n",
       "      <th></th>\n",
       "      <th>0</th>\n",
       "      <th>0</th>\n",
       "    </tr>\n",
       "  </thead>\n",
       "  <tbody>\n",
       "    <tr>\n",
       "      <th>0</th>\n",
       "      <td>147.447009</td>\n",
       "      <td>172.759977</td>\n",
       "    </tr>\n",
       "    <tr>\n",
       "      <th>1</th>\n",
       "      <td>-107.405940</td>\n",
       "      <td>290.405654</td>\n",
       "    </tr>\n",
       "    <tr>\n",
       "      <th>2</th>\n",
       "      <td>-284.043225</td>\n",
       "      <td>29.991201</td>\n",
       "    </tr>\n",
       "    <tr>\n",
       "      <th>3</th>\n",
       "      <td>516.322263</td>\n",
       "      <td>493.521692</td>\n",
       "    </tr>\n",
       "    <tr>\n",
       "      <th>4</th>\n",
       "      <td>282.279815</td>\n",
       "      <td>170.362477</td>\n",
       "    </tr>\n",
       "    <tr>\n",
       "      <th>5</th>\n",
       "      <td>-483.032516</td>\n",
       "      <td>-1,063.906226</td>\n",
       "    </tr>\n",
       "    <tr>\n",
       "      <th>6</th>\n",
       "      <td>180.188276</td>\n",
       "      <td>822.706856</td>\n",
       "    </tr>\n",
       "    <tr>\n",
       "      <th>7</th>\n",
       "      <td>-28.796839</td>\n",
       "      <td>540.489658</td>\n",
       "    </tr>\n",
       "    <tr>\n",
       "      <th>8</th>\n",
       "      <td>141.842043</td>\n",
       "      <td>260.627168</td>\n",
       "    </tr>\n",
       "    <tr>\n",
       "      <th>9</th>\n",
       "      <td>830.026764</td>\n",
       "      <td>521.489720</td>\n",
       "    </tr>\n",
       "    <tr>\n",
       "      <th>10</th>\n",
       "      <td>32.645557</td>\n",
       "      <td>28.150065</td>\n",
       "    </tr>\n",
       "  </tbody>\n",
       "</table>\n",
       "</div>"
      ],
      "text/plain": [
       "             0             0\n",
       "0   147.447009    172.759977\n",
       "1  -107.405940    290.405654\n",
       "2  -284.043225     29.991201\n",
       "3   516.322263    493.521692\n",
       "4   282.279815    170.362477\n",
       "5  -483.032516 -1,063.906226\n",
       "6   180.188276    822.706856\n",
       "7   -28.796839    540.489658\n",
       "8   141.842043    260.627168\n",
       "9   830.026764    521.489720\n",
       "10   32.645557     28.150065"
      ]
     },
     "execution_count": 566,
     "metadata": {},
     "output_type": "execute_result"
    }
   ],
   "source": [
    "ransac = RANSACRegressor(random_state=0, min_samples=0.2, max_trials=500, \\\n",
    "                         loss = 'absolute_loss', stop_n_inliers = 0.8*len(X)).fit(X, y)\n",
    "print(ransac.n_trials_, X.shape, X[ransac.inlier_mask_].shape)\n",
    "\n",
    "lm = sm.OLS(y[ransac.inlier_mask_], sm.add_constant(X[ransac.inlier_mask_])).fit()\n",
    "lm2 = sm.OLS(y[np.logical_not(ransac.inlier_mask_)], sm.add_constant(X[np.logical_not(ransac.inlier_mask_)])).fit()\n",
    "\n",
    "pd.concat([pd.DataFrame(lm.params), pd.DataFrame(lm2.params)], 1)"
   ]
  },
  {
   "cell_type": "code",
   "execution_count": 230,
   "metadata": {},
   "outputs": [
    {
     "name": "stderr",
     "output_type": "stream",
     "text": [
      "...................................................................................................."
     ]
    },
    {
     "data": {
      "image/png": "[encoded data removed]",
      "text/plain": [
       "<Figure size 432x288 with 1 Axes>"
      ]
     },
     "metadata": {
      "needs_background": "light"
     },
     "output_type": "display_data"
    }
   ],
   "source": [
    "diabetes = datasets.load_diabetes()\n",
    "X = diabetes.data\n",
    "y = diabetes.target\n",
    "\n",
    "alphas,coefs, __ = linear_model.lasso_path(X, y,  method='lasso', verbose=True)\n",
    "\n",
    "xx = np.sum(np.abs(coefs.T), axis=1)\n",
    "xx /= xx[-1]\n",
    "\n",
    "plt.plot(xx, coefs.T)\n",
    "ymin, ymax = plt.ylim()\n",
    "plt.vlines(xx, ymin, ymax, linestyle='dashed')\n",
    "plt.xlabel('|coef| / max|coef|')\n",
    "plt.ylabel('Coefficients')\n",
    "plt.title('LASSO Path')\n",
    "plt.axis('tight')\n",
    "plt.show()"
   ]
  },
  {
   "cell_type": "code",
   "execution_count": 797,
   "metadata": {},
   "outputs": [
    {
     "data": {
      "text/plain": [
       "((100000, 100),\n",
       " array([29]),\n",
       " 0    46\n",
       " dtype: int64)"
      ]
     },
     "execution_count": 797,
     "metadata": {},
     "output_type": "execute_result"
    }
   ],
   "source": [
    "X, y = datasets.make_classification(n_samples=100000, n_features=100,\n",
    "                                    n_informative=50, n_redundant=50)\n",
    "log_model = linear_model.LogisticRegression(penalty= 'elasticnet', max_iter= 100, l1_ratio= 1, \\\n",
    "                                            C = 0.001, solver='saga').fit(X, y)\n",
    "\n",
    "coefs = log_model.coef_\n",
    "coefs_df = pd.DataFrame(coefs.T).T\n",
    "X.shape, log_model.n_iter_, coefs_df[coefs_df != 0].dropna(1).T.count()"
   ]
  },
  {
   "cell_type": "code",
   "execution_count": null,
   "metadata": {},
   "outputs": [],
   "source": []
  }
 ],
 "metadata": {
  "kernelspec": {
   "display_name": "Python 3",
   "language": "python",
   "name": "python3"
  },
  "language_info": {
   "codemirror_mode": {
    "name": "ipython",
    "version": 3
   },
   "file_extension": ".py",
   "mimetype": "text/x-python",
   "name": "python",
   "nbconvert_exporter": "python",
   "pygments_lexer": "ipython3",
   "version": "3.8.5"
  }
 },
 "nbformat": 4,
 "nbformat_minor": 5
}
