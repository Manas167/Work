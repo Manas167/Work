{
 "cells": [
  {
   "cell_type": "code",
   "execution_count": 622,
   "id": "harmful-morrison",
   "metadata": {},
   "outputs": [],
   "source": [
    "# data = (clean_returns - clean_returns.mean(axis=0))/clean_returns.std(axis=0)\n",
    "# model = decomposition.FactorAnalysis(n_components=2,tol=1e-8,max_iter=1000)\n",
    "# model.fit(data)\n",
    "# Y = model.fit_transform(data)\n",
    "# data_comp = pd.DataFrame(np.dot(Y, (model.components_)), columns = data.columns, index = data.index)\n",
    "# fa_weights = pd.DataFrame(model.components_, columns = data.columns)"
   ]
  },
  {
   "cell_type": "code",
   "execution_count": 642,
   "id": "animated-picnic",
   "metadata": {},
   "outputs": [],
   "source": [
    "import pandas as pd\n",
    "import numpy as np\n",
    "import os\n",
    "from scipy import signal\n",
    "import statsmodels\n",
    "from scipy.stats import norm\n",
    "from math import factorial\n",
    "import time\n",
    "from scipy import stats\n",
    "import scipy as scipy\n",
    "import seaborn as sns\n",
    "import warnings\n",
    "warnings.filterwarnings(\"ignore\")\n",
    "pd.options.display.float_format = '{:,.6f}'.format\n",
    "np.set_printoptions(threshold=5)\n",
    "import matplotlib\n",
    "import matplotlib.pyplot as plt\n",
    "%matplotlib inline\n",
    "from matplotlib.pyplot import figure"
   ]
  },
  {
   "cell_type": "code",
   "execution_count": 472,
   "id": "backed-antigua",
   "metadata": {},
   "outputs": [],
   "source": [
    "import os\n",
    "from pandas_datareader import data as pdr\n",
    "import pandas as pd\n",
    "import yfinance as yf\n",
    "from sklearn import decomposition\n",
    "from sklearn.decomposition import SparsePCA\n",
    "\n",
    "yf.pdr_override()\n",
    "\n",
    "START_DATE = \"2010-01-01\"\n",
    "END_DATE = \"2015-01-01\""
   ]
  },
  {
   "cell_type": "code",
   "execution_count": 473,
   "id": "infinite-impact",
   "metadata": {},
   "outputs": [],
   "source": [
    "tickers_mapping = pd.read_csv('Tickers.csv',  encoding='latin-1')\n",
    "tickers_sorted = tickers_mapping.sort_values(['Sector']).Symbol\n",
    "tickers_mapping.index = tickers_mapping['Symbol']\n",
    "\n",
    "prices = pd.read_csv('stocks.csv')\n",
    "prices.index = pd.DatetimeIndex(prices['Unnamed: 0'])\n",
    "prices = prices.iloc[:,1:]\n",
    "index = pd.read_csv('index.csv')\n",
    "index.index = pd.DatetimeIndex(index['Date'])\n",
    "raw_prices = pd.concat([prices, index['Adj Close'].rename('INDEX')], axis=1)        \n",
    "\n",
    "returns = raw_prices.pct_change(1)\n",
    "betas = ((returns.rolling(60).corr(returns['INDEX']))*\\\n",
    "                            (returns.rolling(60).std().div(returns['INDEX'].rolling(60).std(),axis = 0))).shift(1)\n",
    "idio_returns = returns - betas.mul(returns['INDEX'], axis = 0)\n",
    "idio_std_returns = idio_returns.div(idio_returns.std(0), 1)\n",
    "\n",
    "clean_returns = returns.loc[:,tickers_sorted].dropna(0, how = 'all').dropna(1)\n",
    "clean_idio_returns = idio_returns.loc[:,tickers_sorted].dropna(0, how = 'all').dropna(1)\n",
    "clean_idio_std_returns = idio_std_returns.loc[:,tickers_sorted].dropna(0, how = 'all').dropna(1)"
   ]
  },
  {
   "cell_type": "code",
   "execution_count": 648,
   "id": "stone-minority",
   "metadata": {},
   "outputs": [
    {
     "name": "stdout",
     "output_type": "stream",
     "text": [
      "0.6648046888304084\n",
      "0    0.441017\n",
      "1    0.030254\n",
      "2    0.015927\n",
      "3    0.013628\n",
      "4    0.013357\n",
      "5    0.009140\n",
      "6    0.008565\n",
      "7    0.007421\n",
      "8    0.006708\n",
      "9    0.006257\n",
      "10   0.005409\n",
      "dtype: float64\n"
     ]
    }
   ],
   "source": [
    "data = (clean_returns - clean_returns.mean(axis=0))/clean_returns.std(axis=0)\n",
    "model = decomposition.PCA(n_components=11,tol=1e-8)\n",
    "model.fit(data)\n",
    "Y = model.fit_transform(data)\n",
    "data_comp = pd.DataFrame(np.dot(Y, (model.components_)), columns = data.columns, index = data.index)\n",
    "pca_weights = (pd.DataFrame(model.components_, columns = data.columns))\n",
    "print(np.sqrt(((data - data_comp)**2).mean().mean()))\n",
    "print(pd.Series(model.explained_variance_ratio_ ))"
   ]
  },
  {
   "cell_type": "code",
   "execution_count": 638,
   "id": "weekly-patrick",
   "metadata": {},
   "outputs": [
    {
     "name": "stdout",
     "output_type": "stream",
     "text": [
      "0.6700335445621745\n"
     ]
    }
   ],
   "source": [
    "data = (clean_returns - clean_returns.mean(axis=0))/clean_returns.std(axis=0)\n",
    "model = decomposition.SparsePCA(n_components=11, tol=1e-8, alpha = 1, ridge_alpha = 0.1)\n",
    "model.fit(data)\n",
    "Y = model.fit_transform(data)\n",
    "data_comp = pd.DataFrame(np.dot(Y, (model.components_)), columns = data.columns, index = data.index)\n",
    "print(np.sqrt(((data - data_comp)**2).mean().mean()))\n",
    "spca_weights = pd.DataFrame(model.components_, columns = data.columns)"
   ]
  },
  {
   "cell_type": "code",
   "execution_count": 656,
   "id": "higher-instrumentation",
   "metadata": {},
   "outputs": [
    {
     "data": {
      "text/html": [
       "<div>\n",
       "<style scoped>\n",
       "    .dataframe tbody tr th:only-of-type {\n",
       "        vertical-align: middle;\n",
       "    }\n",
       "\n",
       "    .dataframe tbody tr th {\n",
       "        vertical-align: top;\n",
       "    }\n",
       "\n",
       "    .dataframe thead th {\n",
       "        text-align: right;\n",
       "    }\n",
       "</style>\n",
       "<table border=\"1\" class=\"dataframe\">\n",
       "  <thead>\n",
       "    <tr style=\"text-align: right;\">\n",
       "      <th></th>\n",
       "      <th>4</th>\n",
       "    </tr>\n",
       "    <tr>\n",
       "      <th>Sector</th>\n",
       "      <th></th>\n",
       "    </tr>\n",
       "  </thead>\n",
       "  <tbody>\n",
       "    <tr>\n",
       "      <th>Communication Services</th>\n",
       "      <td>0.345958</td>\n",
       "    </tr>\n",
       "    <tr>\n",
       "      <th>Consumer Discretionary</th>\n",
       "      <td>0.601208</td>\n",
       "    </tr>\n",
       "    <tr>\n",
       "      <th>Consumer Staples</th>\n",
       "      <td>-2.454580</td>\n",
       "    </tr>\n",
       "    <tr>\n",
       "      <th>Energy</th>\n",
       "      <td>4.150774</td>\n",
       "    </tr>\n",
       "    <tr>\n",
       "      <th>Financials</th>\n",
       "      <td>-10.989218</td>\n",
       "    </tr>\n",
       "    <tr>\n",
       "      <th>Health Care</th>\n",
       "      <td>-3.553115</td>\n",
       "    </tr>\n",
       "    <tr>\n",
       "      <th>Industrials</th>\n",
       "      <td>1.067186</td>\n",
       "    </tr>\n",
       "    <tr>\n",
       "      <th>Information Technology</th>\n",
       "      <td>4.288258</td>\n",
       "    </tr>\n",
       "    <tr>\n",
       "      <th>Materials</th>\n",
       "      <td>2.075221</td>\n",
       "    </tr>\n",
       "    <tr>\n",
       "      <th>Real Estate</th>\n",
       "      <td>1.142533</td>\n",
       "    </tr>\n",
       "    <tr>\n",
       "      <th>Utilities</th>\n",
       "      <td>4.325776</td>\n",
       "    </tr>\n",
       "  </tbody>\n",
       "</table>\n",
       "</div>"
      ],
      "text/plain": [
       "                                4\n",
       "Sector                           \n",
       "Communication Services   0.345958\n",
       "Consumer Discretionary   0.601208\n",
       "Consumer Staples        -2.454580\n",
       "Energy                   4.150774\n",
       "Financials             -10.989218\n",
       "Health Care             -3.553115\n",
       "Industrials              1.067186\n",
       "Information Technology   4.288258\n",
       "Materials                2.075221\n",
       "Real Estate              1.142533\n",
       "Utilities                4.325776"
      ]
     },
     "execution_count": 656,
     "metadata": {},
     "output_type": "execute_result"
    }
   ],
   "source": [
    "pd.concat([norm_weights.T[[4]], tickers_mapping[['Sector']]], 1).groupby(['Sector']).sum()"
   ]
  },
  {
   "cell_type": "code",
   "execution_count": 651,
   "id": "furnished-mechanics",
   "metadata": {},
   "outputs": [
    {
     "name": "stdout",
     "output_type": "stream",
     "text": [
      "0 pos: 447 neg 0\n",
      "0 pos: 1.0 neg 0.0\n",
      "1 pos: 151 neg 296\n",
      "1 pos: 15.147222472313704 neg -14.1472224723137\n",
      "2 pos: 274 neg 173\n",
      "2 pos: 5.193594805106214 neg -4.193594805106215\n",
      "3 pos: 195 neg 252\n",
      "3 pos: 10.156368281171824 neg -9.156368281171824\n",
      "4 pos: 234 neg 213\n",
      "4 pos: 22.130283240327554 neg -21.130283240327554\n"
     ]
    },
    {
     "data": {
      "text/plain": [
       "0  0   1.000000\n",
       "1  1   1.000000\n",
       "2  2   1.000000\n",
       "3  3   1.000000\n",
       "4  4   1.000000\n",
       "dtype: float64"
      ]
     },
     "execution_count": 651,
     "metadata": {},
     "output_type": "execute_result"
    },
    {
     "data": {
      "image/png": "[encoded data removed]",
      "text/plain": [
       "<Figure size 432x288 with 1 Axes>"
      ]
     },
     "metadata": {
      "needs_background": "light"
     },
     "output_type": "display_data"
    }
   ],
   "source": [
    "norm_weights = pca_weights.div(pca_weights.sum(1), 0)\n",
    "\n",
    "tmp = {}\n",
    "for i in range(5):\n",
    "    print (i, 'pos:' , (norm_weights.T[[i]] > 0).sum().sum(), 'neg', (norm_weights.T[[i]] < 0).sum().sum())\n",
    "    print (i, 'pos:' , norm_weights.T[[i]][(norm_weights.T[[i]] > 0)].sum().sum(), \\\n",
    "           'neg', norm_weights.T[[i]][(norm_weights.T[[i]] < 0)].sum().sum())       \n",
    "    tmp[i] = pd.concat([norm_weights.T[[i]], tickers_mapping[['Sector']]], 1).groupby(['Sector']).sum()\n",
    "    \n",
    "pd.concat(tmp, 1).plot(kind='bar')\n",
    "pd.concat(tmp, 1).sum()"
   ]
  },
  {
   "cell_type": "code",
   "execution_count": 659,
   "id": "infinite-number",
   "metadata": {},
   "outputs": [
    {
     "name": "stdout",
     "output_type": "stream",
     "text": [
      "0 pos: 274 neg 5\n",
      "0 pos: 1.0022274514534804 neg -0.002227451453480276\n",
      "1 pos: 163 neg 8\n",
      "1 pos: 1.0059119260512117 neg -0.005911926051212143\n",
      "2 pos: 242 neg 16\n",
      "2 pos: 1.0204452300608313 neg -0.020445230060831248\n",
      "3 pos: 188 neg 4\n",
      "3 pos: 1.004360900666101 neg -0.004360900666101226\n",
      "4 pos: 239 neg 5\n",
      "4 pos: 1.0054667852127495 neg -0.005466785212749503\n",
      "5 pos: 233 neg 8\n",
      "5 pos: 1.0048802581675764 neg -0.004880258167576272\n",
      "6 pos: 197 neg 5\n",
      "6 pos: 1.002600689861302 neg -0.00260068986130198\n",
      "7 pos: 245 neg 18\n",
      "7 pos: 1.0141312749045621 neg -0.014131274904562258\n",
      "8 pos: 187 neg 6\n",
      "8 pos: 1.0037352715362473 neg -0.0037352715362473877\n",
      "9 pos: 205 neg 8\n",
      "9 pos: 1.0069255568921518 neg -0.006925556892151866\n"
     ]
    },
    {
     "data": {
      "text/plain": [
       "0  0   1.000000\n",
       "1  1   1.000000\n",
       "2  2   1.000000\n",
       "3  3   1.000000\n",
       "4  4   1.000000\n",
       "5  5   1.000000\n",
       "6  6   1.000000\n",
       "7  7   1.000000\n",
       "8  8   1.000000\n",
       "9  9   1.000000\n",
       "dtype: float64"
      ]
     },
     "execution_count": 659,
     "metadata": {},
     "output_type": "execute_result"
    },
    {
     "data": {
      "image/png": "[encoded data removed]",
      "text/plain": [
       "<Figure size 1080x360 with 1 Axes>"
      ]
     },
     "metadata": {
      "needs_background": "light"
     },
     "output_type": "display_data"
    }
   ],
   "source": [
    "norm_weights = spca_weights.div(spca_weights.sum(1), 0)\n",
    "\n",
    "tmp = {}\n",
    "for i in range(10):\n",
    "    print (i, 'pos:' , (norm_weights.T[[i]] > 0).sum().sum(), 'neg', (norm_weights.T[[i]] < 0).sum().sum())\n",
    "    print (i, 'pos:' , norm_weights.T[[i]][(norm_weights.T[[i]] > 0)].sum().sum(), \\\n",
    "           'neg', norm_weights.T[[i]][(norm_weights.T[[i]] < 0)].sum().sum())\n",
    "    tmp[i] = pd.concat([norm_weights.T[[i]], tickers_mapping[['Sector']]], 1).groupby(['Sector']).sum()\n",
    "    \n",
    "pd.concat(tmp, 1).plot(kind='bar', figsize=(15,5))\n",
    "pd.concat(tmp, 1).sum()"
   ]
  },
  {
   "cell_type": "code",
   "execution_count": 660,
   "id": "nonprofit-cartridge",
   "metadata": {},
   "outputs": [
    {
     "data": {
      "text/html": [
       "<div>\n",
       "<style scoped>\n",
       "    .dataframe tbody tr th:only-of-type {\n",
       "        vertical-align: middle;\n",
       "    }\n",
       "\n",
       "    .dataframe tbody tr th {\n",
       "        vertical-align: top;\n",
       "    }\n",
       "\n",
       "    .dataframe thead th {\n",
       "        text-align: right;\n",
       "    }\n",
       "</style>\n",
       "<table border=\"1\" class=\"dataframe\">\n",
       "  <thead>\n",
       "    <tr style=\"text-align: right;\">\n",
       "      <th></th>\n",
       "      <th>4</th>\n",
       "    </tr>\n",
       "    <tr>\n",
       "      <th>Sector</th>\n",
       "      <th></th>\n",
       "    </tr>\n",
       "  </thead>\n",
       "  <tbody>\n",
       "    <tr>\n",
       "      <th>Communication Services</th>\n",
       "      <td>0.025849</td>\n",
       "    </tr>\n",
       "    <tr>\n",
       "      <th>Consumer Discretionary</th>\n",
       "      <td>0.042457</td>\n",
       "    </tr>\n",
       "    <tr>\n",
       "      <th>Consumer Staples</th>\n",
       "      <td>0.011687</td>\n",
       "    </tr>\n",
       "    <tr>\n",
       "      <th>Energy</th>\n",
       "      <td>0.010042</td>\n",
       "    </tr>\n",
       "    <tr>\n",
       "      <th>Financials</th>\n",
       "      <td>0.738591</td>\n",
       "    </tr>\n",
       "    <tr>\n",
       "      <th>Health Care</th>\n",
       "      <td>0.023301</td>\n",
       "    </tr>\n",
       "    <tr>\n",
       "      <th>Industrials</th>\n",
       "      <td>0.042499</td>\n",
       "    </tr>\n",
       "    <tr>\n",
       "      <th>Information Technology</th>\n",
       "      <td>0.066367</td>\n",
       "    </tr>\n",
       "    <tr>\n",
       "      <th>Materials</th>\n",
       "      <td>0.008720</td>\n",
       "    </tr>\n",
       "    <tr>\n",
       "      <th>Real Estate</th>\n",
       "      <td>0.027041</td>\n",
       "    </tr>\n",
       "    <tr>\n",
       "      <th>Utilities</th>\n",
       "      <td>0.003445</td>\n",
       "    </tr>\n",
       "  </tbody>\n",
       "</table>\n",
       "</div>"
      ],
      "text/plain": [
       "                              4\n",
       "Sector                         \n",
       "Communication Services 0.025849\n",
       "Consumer Discretionary 0.042457\n",
       "Consumer Staples       0.011687\n",
       "Energy                 0.010042\n",
       "Financials             0.738591\n",
       "Health Care            0.023301\n",
       "Industrials            0.042499\n",
       "Information Technology 0.066367\n",
       "Materials              0.008720\n",
       "Real Estate            0.027041\n",
       "Utilities              0.003445"
      ]
     },
     "execution_count": 660,
     "metadata": {},
     "output_type": "execute_result"
    }
   ],
   "source": [
    "pd.concat([norm_weights.T[[4]], tickers_mapping[['Sector']]], 1).groupby(['Sector']).sum()"
   ]
  },
  {
   "cell_type": "code",
   "execution_count": 633,
   "id": "british-empire",
   "metadata": {},
   "outputs": [
    {
     "data": {
      "image/png": "[encoded data removed]",
      "text/plain": [
       "<Figure size 432x288 with 1 Axes>"
      ]
     },
     "metadata": {
      "needs_background": "light"
     },
     "output_type": "display_data"
    },
    {
     "data": {
      "image/png": "[encoded data removed]",
      "text/plain": [
       "<Figure size 432x288 with 1 Axes>"
      ]
     },
     "metadata": {
      "needs_background": "light"
     },
     "output_type": "display_data"
    },
    {
     "data": {
      "image/png": "[encoded data removed]",
      "text/plain": [
       "<Figure size 432x288 with 1 Axes>"
      ]
     },
     "metadata": {
      "needs_background": "light"
     },
     "output_type": "display_data"
    },
    {
     "data": {
      "image/png": "[encoded data removed]",
      "text/plain": [
       "<Figure size 432x288 with 1 Axes>"
      ]
     },
     "metadata": {
      "needs_background": "light"
     },
     "output_type": "display_data"
    },
    {
     "data": {
      "image/png": "[encoded data removed]",
      "text/plain": [
       "<Figure size 432x288 with 1 Axes>"
      ]
     },
     "metadata": {
      "needs_background": "light"
     },
     "output_type": "display_data"
    }
   ],
   "source": [
    "for i in range(5):\n",
    "    weights = pd.concat([pca_weights.iloc[i], spca_weights.iloc[i]], 1)\n",
    "    weights.columns = ['PCA', 'FA']\n",
    "    plt.scatter(weights.PCA, weights.FA)\n",
    "    plt.show()"
   ]
  },
  {
   "cell_type": "code",
   "execution_count": 634,
   "id": "incomplete-vision",
   "metadata": {},
   "outputs": [
    {
     "data": {
      "text/html": [
       "<div>\n",
       "<style scoped>\n",
       "    .dataframe tbody tr th:only-of-type {\n",
       "        vertical-align: middle;\n",
       "    }\n",
       "\n",
       "    .dataframe tbody tr th {\n",
       "        vertical-align: top;\n",
       "    }\n",
       "\n",
       "    .dataframe thead th {\n",
       "        text-align: right;\n",
       "    }\n",
       "</style>\n",
       "<table border=\"1\" class=\"dataframe\">\n",
       "  <thead>\n",
       "    <tr style=\"text-align: right;\">\n",
       "      <th></th>\n",
       "      <th>0</th>\n",
       "      <th>1</th>\n",
       "      <th>2</th>\n",
       "      <th>3</th>\n",
       "      <th>4</th>\n",
       "    </tr>\n",
       "  </thead>\n",
       "  <tbody>\n",
       "    <tr>\n",
       "      <th>0</th>\n",
       "      <td>1.000000</td>\n",
       "      <td>0.506605</td>\n",
       "      <td>0.729353</td>\n",
       "      <td>-0.669814</td>\n",
       "      <td>-0.799410</td>\n",
       "    </tr>\n",
       "    <tr>\n",
       "      <th>1</th>\n",
       "      <td>0.506605</td>\n",
       "      <td>1.000000</td>\n",
       "      <td>0.559900</td>\n",
       "      <td>-0.627266</td>\n",
       "      <td>-0.576066</td>\n",
       "    </tr>\n",
       "    <tr>\n",
       "      <th>2</th>\n",
       "      <td>0.729353</td>\n",
       "      <td>0.559900</td>\n",
       "      <td>1.000000</td>\n",
       "      <td>-0.630585</td>\n",
       "      <td>-0.709500</td>\n",
       "    </tr>\n",
       "    <tr>\n",
       "      <th>3</th>\n",
       "      <td>-0.669814</td>\n",
       "      <td>-0.627266</td>\n",
       "      <td>-0.630585</td>\n",
       "      <td>1.000000</td>\n",
       "      <td>0.701403</td>\n",
       "    </tr>\n",
       "    <tr>\n",
       "      <th>4</th>\n",
       "      <td>-0.799410</td>\n",
       "      <td>-0.576066</td>\n",
       "      <td>-0.709500</td>\n",
       "      <td>0.701403</td>\n",
       "      <td>1.000000</td>\n",
       "    </tr>\n",
       "  </tbody>\n",
       "</table>\n",
       "</div>"
      ],
      "text/plain": [
       "          0         1         2         3         4\n",
       "0  1.000000  0.506605  0.729353 -0.669814 -0.799410\n",
       "1  0.506605  1.000000  0.559900 -0.627266 -0.576066\n",
       "2  0.729353  0.559900  1.000000 -0.630585 -0.709500\n",
       "3 -0.669814 -0.627266 -0.630585  1.000000  0.701403\n",
       "4 -0.799410 -0.576066 -0.709500  0.701403  1.000000"
      ]
     },
     "execution_count": 634,
     "metadata": {},
     "output_type": "execute_result"
    }
   ],
   "source": [
    "pd.DataFrame(Y).corr()"
   ]
  },
  {
   "cell_type": "code",
   "execution_count": 635,
   "id": "looking-wheat",
   "metadata": {},
   "outputs": [
    {
     "data": {
      "text/html": [
       "<div>\n",
       "<style scoped>\n",
       "    .dataframe tbody tr th:only-of-type {\n",
       "        vertical-align: middle;\n",
       "    }\n",
       "\n",
       "    .dataframe tbody tr th {\n",
       "        vertical-align: top;\n",
       "    }\n",
       "\n",
       "    .dataframe thead th {\n",
       "        text-align: right;\n",
       "    }\n",
       "</style>\n",
       "<table border=\"1\" class=\"dataframe\">\n",
       "  <thead>\n",
       "    <tr style=\"text-align: right;\">\n",
       "      <th></th>\n",
       "      <th>0</th>\n",
       "      <th>1</th>\n",
       "      <th>2</th>\n",
       "      <th>3</th>\n",
       "      <th>4</th>\n",
       "    </tr>\n",
       "  </thead>\n",
       "  <tbody>\n",
       "    <tr>\n",
       "      <th>TROW</th>\n",
       "      <td>-0.062063</td>\n",
       "      <td>-0.010115</td>\n",
       "      <td>-0.038725</td>\n",
       "      <td>-0.016250</td>\n",
       "      <td>-0.041425</td>\n",
       "    </tr>\n",
       "    <tr>\n",
       "      <th>IVZ</th>\n",
       "      <td>-0.061313</td>\n",
       "      <td>-0.012625</td>\n",
       "      <td>-0.035164</td>\n",
       "      <td>-0.026123</td>\n",
       "      <td>-0.035516</td>\n",
       "    </tr>\n",
       "    <tr>\n",
       "      <th>HON</th>\n",
       "      <td>-0.061285</td>\n",
       "      <td>-0.022589</td>\n",
       "      <td>0.011580</td>\n",
       "      <td>-0.029530</td>\n",
       "      <td>0.005782</td>\n",
       "    </tr>\n",
       "    <tr>\n",
       "      <th>IEX</th>\n",
       "      <td>-0.060870</td>\n",
       "      <td>-0.039910</td>\n",
       "      <td>0.001668</td>\n",
       "      <td>0.005798</td>\n",
       "      <td>0.036554</td>\n",
       "    </tr>\n",
       "    <tr>\n",
       "      <th>L</th>\n",
       "      <td>-0.060851</td>\n",
       "      <td>0.007298</td>\n",
       "      <td>-0.047348</td>\n",
       "      <td>-0.058728</td>\n",
       "      <td>-0.028365</td>\n",
       "    </tr>\n",
       "    <tr>\n",
       "      <th>MNST</th>\n",
       "      <td>-0.026893</td>\n",
       "      <td>0.018345</td>\n",
       "      <td>0.055070</td>\n",
       "      <td>0.020842</td>\n",
       "      <td>0.023161</td>\n",
       "    </tr>\n",
       "    <tr>\n",
       "      <th>DG</th>\n",
       "      <td>-0.024153</td>\n",
       "      <td>0.000219</td>\n",
       "      <td>0.052737</td>\n",
       "      <td>0.080490</td>\n",
       "      <td>-0.022092</td>\n",
       "    </tr>\n",
       "    <tr>\n",
       "      <th>VRTX</th>\n",
       "      <td>-0.021100</td>\n",
       "      <td>0.002103</td>\n",
       "      <td>0.050370</td>\n",
       "      <td>0.024341</td>\n",
       "      <td>-0.019315</td>\n",
       "    </tr>\n",
       "    <tr>\n",
       "      <th>NEM</th>\n",
       "      <td>-0.018987</td>\n",
       "      <td>0.008477</td>\n",
       "      <td>-0.045367</td>\n",
       "      <td>-0.048551</td>\n",
       "      <td>0.101948</td>\n",
       "    </tr>\n",
       "    <tr>\n",
       "      <th>NFLX</th>\n",
       "      <td>-0.018137</td>\n",
       "      <td>-0.044898</td>\n",
       "      <td>0.024582</td>\n",
       "      <td>0.052416</td>\n",
       "      <td>0.031864</td>\n",
       "    </tr>\n",
       "  </tbody>\n",
       "</table>\n",
       "</div>"
      ],
      "text/plain": [
       "             0         1         2         3         4\n",
       "TROW -0.062063 -0.010115 -0.038725 -0.016250 -0.041425\n",
       "IVZ  -0.061313 -0.012625 -0.035164 -0.026123 -0.035516\n",
       "HON  -0.061285 -0.022589  0.011580 -0.029530  0.005782\n",
       "IEX  -0.060870 -0.039910  0.001668  0.005798  0.036554\n",
       "L    -0.060851  0.007298 -0.047348 -0.058728 -0.028365\n",
       "MNST -0.026893  0.018345  0.055070  0.020842  0.023161\n",
       "DG   -0.024153  0.000219  0.052737  0.080490 -0.022092\n",
       "VRTX -0.021100  0.002103  0.050370  0.024341 -0.019315\n",
       "NEM  -0.018987  0.008477 -0.045367 -0.048551  0.101948\n",
       "NFLX -0.018137 -0.044898  0.024582  0.052416  0.031864"
      ]
     },
     "execution_count": 635,
     "metadata": {},
     "output_type": "execute_result"
    }
   ],
   "source": [
    "count = 0\n",
    "pd.concat([pca_weights.T.sort_values(count)[:5], pca_weights.T.sort_values(count)[-5:]],0)"
   ]
  },
  {
   "cell_type": "code",
   "execution_count": 636,
   "id": "exempt-burlington",
   "metadata": {},
   "outputs": [
    {
     "data": {
      "text/html": [
       "<div>\n",
       "<style scoped>\n",
       "    .dataframe tbody tr th:only-of-type {\n",
       "        vertical-align: middle;\n",
       "    }\n",
       "\n",
       "    .dataframe tbody tr th {\n",
       "        vertical-align: top;\n",
       "    }\n",
       "\n",
       "    .dataframe thead th {\n",
       "        text-align: right;\n",
       "    }\n",
       "</style>\n",
       "<table border=\"1\" class=\"dataframe\">\n",
       "  <thead>\n",
       "    <tr style=\"text-align: right;\">\n",
       "      <th></th>\n",
       "      <th>Symbol</th>\n",
       "      <th>Name</th>\n",
       "      <th>Sector</th>\n",
       "      <th>Industry</th>\n",
       "    </tr>\n",
       "  </thead>\n",
       "  <tbody>\n",
       "    <tr>\n",
       "      <th>WBA</th>\n",
       "      <td>WBA</td>\n",
       "      <td>Walgreens Boots Alliance</td>\n",
       "      <td>Consumer Staples</td>\n",
       "      <td>Drug Retail</td>\n",
       "    </tr>\n",
       "    <tr>\n",
       "      <th>CMG</th>\n",
       "      <td>CMG</td>\n",
       "      <td>Chipotle Mexican Grill</td>\n",
       "      <td>Consumer Discretionary</td>\n",
       "      <td>Restaurants</td>\n",
       "    </tr>\n",
       "    <tr>\n",
       "      <th>AZO</th>\n",
       "      <td>AZO</td>\n",
       "      <td>AutoZone Inc</td>\n",
       "      <td>Consumer Discretionary</td>\n",
       "      <td>Specialty Stores</td>\n",
       "    </tr>\n",
       "    <tr>\n",
       "      <th>GILD</th>\n",
       "      <td>GILD</td>\n",
       "      <td>Gilead Sciences</td>\n",
       "      <td>Health Care</td>\n",
       "      <td>Biotechnology</td>\n",
       "    </tr>\n",
       "    <tr>\n",
       "      <th>TMUS</th>\n",
       "      <td>TMUS</td>\n",
       "      <td>T-Mobile US</td>\n",
       "      <td>Communication Services</td>\n",
       "      <td>Wireless Telecommunication Services</td>\n",
       "    </tr>\n",
       "    <tr>\n",
       "      <th>AAP</th>\n",
       "      <td>AAP</td>\n",
       "      <td>Advance Auto Parts</td>\n",
       "      <td>Consumer Discretionary</td>\n",
       "      <td>Automotive Retail</td>\n",
       "    </tr>\n",
       "    <tr>\n",
       "      <th>ABMD</th>\n",
       "      <td>ABMD</td>\n",
       "      <td>Abiomed</td>\n",
       "      <td>Health Care</td>\n",
       "      <td>Health Care Equipment</td>\n",
       "    </tr>\n",
       "    <tr>\n",
       "      <th>EXPE</th>\n",
       "      <td>EXPE</td>\n",
       "      <td>Expedia Group</td>\n",
       "      <td>Consumer Discretionary</td>\n",
       "      <td>Internet &amp; Direct Marketing Retail</td>\n",
       "    </tr>\n",
       "    <tr>\n",
       "      <th>FTNT</th>\n",
       "      <td>FTNT</td>\n",
       "      <td>Fortinet</td>\n",
       "      <td>Information Technology</td>\n",
       "      <td>Systems Software</td>\n",
       "    </tr>\n",
       "    <tr>\n",
       "      <th>ULTA</th>\n",
       "      <td>ULTA</td>\n",
       "      <td>Ulta Beauty</td>\n",
       "      <td>Consumer Discretionary</td>\n",
       "      <td>Specialty Stores</td>\n",
       "    </tr>\n",
       "    <tr>\n",
       "      <th>REGN</th>\n",
       "      <td>REGN</td>\n",
       "      <td>Regeneron Pharmaceuticals</td>\n",
       "      <td>Health Care</td>\n",
       "      <td>Biotechnology</td>\n",
       "    </tr>\n",
       "    <tr>\n",
       "      <th>ILMN</th>\n",
       "      <td>ILMN</td>\n",
       "      <td>Illumina Inc</td>\n",
       "      <td>Health Care</td>\n",
       "      <td>Life Sciences Tools &amp; Services</td>\n",
       "    </tr>\n",
       "    <tr>\n",
       "      <th>DLTR</th>\n",
       "      <td>DLTR</td>\n",
       "      <td>Dollar Tree</td>\n",
       "      <td>Consumer Discretionary</td>\n",
       "      <td>General Merchandise Stores</td>\n",
       "    </tr>\n",
       "    <tr>\n",
       "      <th>EW</th>\n",
       "      <td>EW</td>\n",
       "      <td>Edwards Lifesciences</td>\n",
       "      <td>Health Care</td>\n",
       "      <td>Health Care Equipment</td>\n",
       "    </tr>\n",
       "    <tr>\n",
       "      <th>BBY</th>\n",
       "      <td>BBY</td>\n",
       "      <td>Best Buy Co. Inc.</td>\n",
       "      <td>Consumer Discretionary</td>\n",
       "      <td>Computer &amp; Electronics Retail</td>\n",
       "    </tr>\n",
       "    <tr>\n",
       "      <th>MNST</th>\n",
       "      <td>MNST</td>\n",
       "      <td>Monster Beverage</td>\n",
       "      <td>Consumer Staples</td>\n",
       "      <td>Soft Drinks</td>\n",
       "    </tr>\n",
       "    <tr>\n",
       "      <th>DG</th>\n",
       "      <td>DG</td>\n",
       "      <td>Dollar General</td>\n",
       "      <td>Consumer Discretionary</td>\n",
       "      <td>General Merchandise Stores</td>\n",
       "    </tr>\n",
       "    <tr>\n",
       "      <th>VRTX</th>\n",
       "      <td>VRTX</td>\n",
       "      <td>Vertex Pharmaceuticals Inc</td>\n",
       "      <td>Health Care</td>\n",
       "      <td>Biotechnology</td>\n",
       "    </tr>\n",
       "    <tr>\n",
       "      <th>NEM</th>\n",
       "      <td>NEM</td>\n",
       "      <td>Newmont Corporation</td>\n",
       "      <td>Materials</td>\n",
       "      <td>Gold</td>\n",
       "    </tr>\n",
       "    <tr>\n",
       "      <th>NFLX</th>\n",
       "      <td>NFLX</td>\n",
       "      <td>Netflix Inc.</td>\n",
       "      <td>Communication Services</td>\n",
       "      <td>Movies &amp; Entertainment</td>\n",
       "    </tr>\n",
       "  </tbody>\n",
       "</table>\n",
       "</div>"
      ],
      "text/plain": [
       "     Symbol                        Name                  Sector  \\\n",
       "WBA     WBA    Walgreens Boots Alliance        Consumer Staples   \n",
       "CMG     CMG      Chipotle Mexican Grill  Consumer Discretionary   \n",
       "AZO     AZO                AutoZone Inc  Consumer Discretionary   \n",
       "GILD   GILD             Gilead Sciences             Health Care   \n",
       "TMUS   TMUS                 T-Mobile US  Communication Services   \n",
       "AAP     AAP          Advance Auto Parts  Consumer Discretionary   \n",
       "ABMD   ABMD                     Abiomed             Health Care   \n",
       "EXPE   EXPE               Expedia Group  Consumer Discretionary   \n",
       "FTNT   FTNT                    Fortinet  Information Technology   \n",
       "ULTA   ULTA                 Ulta Beauty  Consumer Discretionary   \n",
       "REGN   REGN   Regeneron Pharmaceuticals             Health Care   \n",
       "ILMN   ILMN                Illumina Inc             Health Care   \n",
       "DLTR   DLTR                 Dollar Tree  Consumer Discretionary   \n",
       "EW       EW        Edwards Lifesciences             Health Care   \n",
       "BBY     BBY           Best Buy Co. Inc.  Consumer Discretionary   \n",
       "MNST   MNST            Monster Beverage        Consumer Staples   \n",
       "DG       DG              Dollar General  Consumer Discretionary   \n",
       "VRTX   VRTX  Vertex Pharmaceuticals Inc             Health Care   \n",
       "NEM     NEM         Newmont Corporation               Materials   \n",
       "NFLX   NFLX                Netflix Inc.  Communication Services   \n",
       "\n",
       "                                 Industry  \n",
       "WBA                           Drug Retail  \n",
       "CMG                           Restaurants  \n",
       "AZO                      Specialty Stores  \n",
       "GILD                        Biotechnology  \n",
       "TMUS  Wireless Telecommunication Services  \n",
       "AAP                     Automotive Retail  \n",
       "ABMD                Health Care Equipment  \n",
       "EXPE   Internet & Direct Marketing Retail  \n",
       "FTNT                     Systems Software  \n",
       "ULTA                     Specialty Stores  \n",
       "REGN                        Biotechnology  \n",
       "ILMN       Life Sciences Tools & Services  \n",
       "DLTR           General Merchandise Stores  \n",
       "EW                  Health Care Equipment  \n",
       "BBY         Computer & Electronics Retail  \n",
       "MNST                          Soft Drinks  \n",
       "DG             General Merchandise Stores  \n",
       "VRTX                        Biotechnology  \n",
       "NEM                                  Gold  \n",
       "NFLX               Movies & Entertainment  "
      ]
     },
     "execution_count": 636,
     "metadata": {},
     "output_type": "execute_result"
    }
   ],
   "source": [
    "tickers_mapping.loc[pca_weights.T.sort_values(0)[-20:].index]"
   ]
  },
  {
   "cell_type": "code",
   "execution_count": 637,
   "id": "absolute-beginning",
   "metadata": {},
   "outputs": [
    {
     "data": {
      "text/plain": [
       "0   -0.918951\n",
       "1   -0.687913\n",
       "2   -0.857394\n",
       "3    0.762336\n",
       "4    0.904170\n",
       "dtype: float64"
      ]
     },
     "execution_count": 637,
     "metadata": {},
     "output_type": "execute_result"
    }
   ],
   "source": [
    "pd.DataFrame(Y, index = data.index).corrwith(returns['INDEX'])"
   ]
  },
  {
   "cell_type": "code",
   "execution_count": 436,
   "id": "endangered-relationship",
   "metadata": {},
   "outputs": [
    {
     "data": {
      "text/plain": [
       "<AxesSubplot:>"
      ]
     },
     "execution_count": 436,
     "metadata": {},
     "output_type": "execute_result"
    },
    {
     "data": {
      "image/png": "[encoded data removed]",
      "text/plain": [
       "<Figure size 432x288 with 1 Axes>"
      ]
     },
     "metadata": {
      "needs_background": "light"
     },
     "output_type": "display_data"
    }
   ],
   "source": [
    "pd.DataFrame(data_comp, index=data.index, columns=data.columns).corrwith(data).plot()"
   ]
  },
  {
   "cell_type": "code",
   "execution_count": null,
   "id": "persistent-dynamics",
   "metadata": {},
   "outputs": [],
   "source": []
  }
 ],
 "metadata": {
  "kernelspec": {
   "display_name": "Python 3",
   "language": "python",
   "name": "python3"
  },
  "language_info": {
   "codemirror_mode": {
    "name": "ipython",
    "version": 3
   },
   "file_extension": ".py",
   "mimetype": "text/x-python",
   "name": "python",
   "nbconvert_exporter": "python",
   "pygments_lexer": "ipython3",
   "version": "3.7.4"
  }
 },
 "nbformat": 4,
 "nbformat_minor": 5
}
