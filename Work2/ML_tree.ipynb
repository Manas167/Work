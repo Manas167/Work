{
 "cells": [
  {
   "cell_type": "code",
   "execution_count": 428,
   "id": "crazy-handle",
   "metadata": {},
   "outputs": [],
   "source": [
    "import pandas as pd\n",
    "import numpy as np\n",
    "import random\n",
    "import os\n",
    "from scipy import signal\n",
    "import statsmodels\n",
    "from scipy.stats import norm\n",
    "from math import factorial\n",
    "import time\n",
    "from scipy import stats\n",
    "import scipy as scipy\n",
    "import seaborn as sns\n",
    "import warnings\n",
    "warnings.filterwarnings(\"ignore\")\n",
    "pd.options.display.float_format = '{:,.6f}'.format\n",
    "np.set_printoptions(threshold=5)\n",
    "import matplotlib\n",
    "import matplotlib.pyplot as plt\n",
    "%matplotlib inline\n",
    "from matplotlib.pyplot import figure\n",
    "from sklearn import neighbors\n",
    "import statsmodels.api as sm\n",
    "from sklearn.metrics import confusion_matrix"
   ]
  },
  {
   "cell_type": "code",
   "execution_count": 2,
   "id": "backed-antigua",
   "metadata": {},
   "outputs": [],
   "source": [
    "import os\n",
    "from pandas_datareader import data as pdr\n",
    "import pandas as pd\n",
    "import yfinance as yf\n",
    "from sklearn import decomposition\n",
    "from sklearn.decomposition import SparsePCA\n",
    "from sklearn.linear_model import RANSACRegressor\n",
    "\n",
    "yf.pdr_override()\n",
    "\n",
    "START_DATE = \"2010-01-01\"\n",
    "END_DATE = \"2015-01-01\""
   ]
  },
  {
   "cell_type": "code",
   "execution_count": 3,
   "id": "toxic-gauge",
   "metadata": {},
   "outputs": [],
   "source": [
    "tickers_mapping = pd.read_csv('Tickers.csv',  encoding='latin-1')\n",
    "tickers_sorted = tickers_mapping.sort_values(['Sector']).Symbol\n",
    "tickers_mapping.index = tickers_mapping['Symbol']"
   ]
  },
  {
   "cell_type": "code",
   "execution_count": 4,
   "id": "infinite-impact",
   "metadata": {},
   "outputs": [],
   "source": [
    "prices = pd.read_csv('stocks.csv')\n",
    "prices.index = pd.DatetimeIndex(prices['Unnamed: 0'])\n",
    "prices = prices.iloc[:,1:]\n",
    "index = pd.read_csv('index.csv')\n",
    "index.index = pd.DatetimeIndex(index['Date'])\n",
    "raw_prices = pd.concat([prices, index['Adj Close'].rename('INDEX')], axis=1)        \n",
    "\n",
    "returns = raw_prices.pct_change(1)\n",
    "std_returns = returns.div(returns.std(0), 1)\n",
    "\n",
    "betas = ((returns.rolling(60).corr(returns['INDEX']))*\\\n",
    "                            (returns.rolling(60).std().div(returns['INDEX'].rolling(60).std(),axis = 0))).shift(1)\n",
    "idio_returns = returns - betas.mul(returns['INDEX'], axis = 0)\n",
    "idio_std_returns = idio_returns.div(idio_returns.std(0), 1)"
   ]
  },
  {
   "cell_type": "code",
   "execution_count": 5,
   "id": "statutory-tiger",
   "metadata": {},
   "outputs": [],
   "source": [
    "prices = pd.read_csv('stocks2.csv')\n",
    "prices.index = pd.DatetimeIndex(prices['Unnamed: 0'])\n",
    "prices = prices.iloc[:,1:]\n",
    "index = pd.read_csv('index2.csv')\n",
    "index.index = pd.DatetimeIndex(index['Date'])\n",
    "raw_prices2 = pd.concat([prices, index['Adj Close'].rename('INDEX')], axis=1)        \n",
    "\n",
    "returns2 = raw_prices2.pct_change(1)\n",
    "std_returns2 = returns2.div(returns2.std(0), 1)\n",
    "\n",
    "betas2 = ((returns2.rolling(60).corr(returns2['INDEX']))*\\\n",
    "                            (returns2.rolling(60).std().div(returns2['INDEX'].rolling(60).std(),axis = 0))).shift(1)\n",
    "idio_returns2 = returns2 - betas2.mul(returns2['INDEX'], axis = 0)\n",
    "idio_std_returns2 = idio_returns2.div(idio_returns2.std(0), 1)"
   ]
  },
  {
   "cell_type": "code",
   "execution_count": 6,
   "id": "continental-findings",
   "metadata": {},
   "outputs": [],
   "source": [
    "clean_returns = returns.loc[:,tickers_sorted].dropna(0, how = 'all').dropna(1)\n",
    "clean_idio_returns = idio_returns.loc[:,tickers_sorted].dropna(0, how = 'all').dropna(1)\n",
    "clean_idio_std_returns = idio_std_returns.loc[:,tickers_sorted].dropna(0, how = 'all').dropna(1)\n",
    "\n",
    "clean_returns2 = returns2.loc[:,tickers_sorted].dropna(0, how = 'all').dropna(1)\n",
    "clean_idio_returns2 = idio_returns2.loc[:,tickers_sorted].dropna(0, how = 'all').dropna(1)\n",
    "clean_idio_std_returns2 = idio_std_returns2.loc[:,tickers_sorted].dropna(0, how = 'all').dropna(1)"
   ]
  },
  {
   "cell_type": "code",
   "execution_count": 7,
   "id": "similar-chosen",
   "metadata": {},
   "outputs": [],
   "source": [
    "clean_returns = clean_returns.loc[:,list(set(clean_idio_returns.columns) & set(clean_idio_returns2.columns))]\n",
    "clean_idio_returns = clean_idio_returns.loc[:,list(set(clean_idio_returns.columns) & set(clean_idio_returns2.columns))]\n",
    "clean_idio_std_returns = clean_idio_std_returns.loc[:,list(set(clean_idio_returns.columns) & set(clean_idio_returns2.columns))]\n",
    "\n",
    "clean_returns2 = clean_returns2.loc[:,list(set(clean_idio_returns.columns) & set(clean_idio_returns2.columns))]\n",
    "clean_idio_returns2 = clean_idio_returns2.loc[:,list(set(clean_idio_returns.columns) & set(clean_idio_returns2.columns))]\n",
    "clean_idio_std_returns2 = clean_idio_std_returns2.loc[:,list(set(clean_idio_returns.columns)&set(clean_idio_returns2.columns))]"
   ]
  },
  {
   "cell_type": "code",
   "execution_count": 8,
   "id": "sorted-marijuana",
   "metadata": {},
   "outputs": [
    {
     "data": {
      "text/plain": [
       "((1197, 447), (1198, 447))"
      ]
     },
     "execution_count": 8,
     "metadata": {},
     "output_type": "execute_result"
    }
   ],
   "source": [
    "clean_idio_std_returns.shape, clean_idio_std_returns2.shape"
   ]
  },
  {
   "cell_type": "markdown",
   "id": "intimate-executive",
   "metadata": {},
   "source": [
    "Model"
   ]
  },
  {
   "cell_type": "markdown",
   "id": "incorporated-politics",
   "metadata": {},
   "source": [
    "Demo"
   ]
  },
  {
   "cell_type": "code",
   "execution_count": 237,
   "id": "round-fantasy",
   "metadata": {},
   "outputs": [],
   "source": [
    "from sklearn.datasets import load_iris\n",
    "from sklearn.inspection import permutation_importance\n",
    "from sklearn.tree import DecisionTreeClassifier\n",
    "from sklearn.inspection import plot_partial_dependence\n",
    "from sklearn.tree import plot_tree\n",
    "from sklearn.ensemble import (BaggingClassifier, RandomForestClassifier,\n",
    "                              GradientBoostingClassifier, StackingClassifier)"
   ]
  },
  {
   "cell_type": "code",
   "execution_count": 356,
   "id": "funny-sherman",
   "metadata": {},
   "outputs": [],
   "source": [
    "input_returns = clean_idio_returns\n",
    "lags = 5\n",
    "iteration = 1\n",
    "stock = 'MSFT'\n",
    "returns_table = input_returns.iloc[iteration:].rolling(lags).mean()[::lags]\n",
    "rhs = returns_table.shift(1).dropna()\n",
    "lhs = returns_table[[stock]].reindex(rhs.index)\n",
    "lhs = pd.DataFrame(np.where(lhs > 0.0, 1, 0), index = lhs.index, columns = lhs.columns)"
   ]
  },
  {
   "cell_type": "code",
   "execution_count": 357,
   "id": "neural-caution",
   "metadata": {},
   "outputs": [],
   "source": [
    "clf = DecisionTreeClassifier(criterion='entropy', splitter='best', \\\n",
    "                             max_depth=20, min_samples_split=0.1, min_samples_leaf=0.05, \\\n",
    "                             max_features=1.0, random_state=0, ccp_alpha=0.046)\n",
    "clf = clf.fit(rhs, lhs)"
   ]
  },
  {
   "cell_type": "code",
   "execution_count": 191,
   "id": "postal-career",
   "metadata": {},
   "outputs": [
    {
     "data": {
      "text/plain": [
       "BaggingClassifier(base_estimator=DecisionTreeClassifier(ccp_alpha=0.046,\n",
       "                                                        criterion='entropy',\n",
       "                                                        max_depth=20,\n",
       "                                                        max_features=1.0,\n",
       "                                                        min_samples_leaf=0.05,\n",
       "                                                        min_samples_split=0.1,\n",
       "                                                        random_state=0),\n",
       "                  bootstrap=False, max_features=0.2, max_samples=0.8,\n",
       "                  random_state=0)"
      ]
     },
     "execution_count": 191,
     "metadata": {},
     "output_type": "execute_result"
    }
   ],
   "source": [
    "clf = DecisionTreeClassifier(criterion='entropy', splitter='best', \\\n",
    "                             max_depth=20, min_samples_split=0.1, min_samples_leaf=0.05, \\\n",
    "                             max_features=1.0, random_state=0, ccp_alpha=0.046)\n",
    "\n",
    "bcf = BaggingClassifier(base_estimator=clf, n_estimators=10, max_samples=0.8, max_features=0.2, \\\n",
    "                  bootstrap = False, bootstrap_features = False, random_state = 0)\n",
    "bcf.fit(rhs, lhs)"
   ]
  },
  {
   "cell_type": "code",
   "execution_count": 254,
   "id": "postal-confirmation",
   "metadata": {},
   "outputs": [
    {
     "data": {
      "text/plain": [
       "RandomForestClassifier(ccp_alpha=0.046, criterion='entropy', max_depth=20,\n",
       "                       min_samples_leaf=0.05, min_samples_split=0.1,\n",
       "                       random_state=0)"
      ]
     },
     "execution_count": 254,
     "metadata": {},
     "output_type": "execute_result"
    }
   ],
   "source": [
    "rlf = RandomForestClassifier(n_estimators=100, criterion='entropy', \n",
    "                             max_depth=20, min_samples_split=0.1, min_samples_leaf=0.05, \\\n",
    "                             max_features= 'auto', random_state=0, ccp_alpha=0.046)\n",
    "\n",
    "rlf.fit(rhs, lhs)"
   ]
  },
  {
   "cell_type": "code",
   "execution_count": 425,
   "id": "impaired-azerbaijan",
   "metadata": {},
   "outputs": [
    {
     "data": {
      "text/plain": [
       "GradientBoostingClassifier(ccp_alpha=0.01, max_depth=5, max_features=1.0,\n",
       "                           min_samples_leaf=0.05, min_samples_split=0.1,\n",
       "                           n_iter_no_change=5, random_state=0)"
      ]
     },
     "execution_count": 425,
     "metadata": {},
     "output_type": "execute_result"
    }
   ],
   "source": [
    "gbf = GradientBoostingClassifier(loss='deviance', learning_rate=0.1, n_estimators=100, \\\n",
    "                                 subsample=1.0, max_features=1.0, criterion='friedman_mse', \\\n",
    "                                 min_samples_split=0.1, min_samples_leaf=0.05, max_depth=5, \\\n",
    "                                 random_state=0, validation_fraction=0.1, n_iter_no_change = 5, ccp_alpha=0.01)\n",
    "\n",
    "gbf.fit(rhs, lhs)"
   ]
  },
  {
   "cell_type": "code",
   "execution_count": 426,
   "id": "suburban-craps",
   "metadata": {},
   "outputs": [
    {
     "data": {
      "text/plain": [
       "(8, [5, 5, 5, 5, 4, 2, 2, 5])"
      ]
     },
     "execution_count": 426,
     "metadata": {},
     "output_type": "execute_result"
    }
   ],
   "source": [
    "gbf.n_estimators_, [tree[0].get_depth() for tree in list(gbf.estimators_)]"
   ]
  },
  {
   "cell_type": "code",
   "execution_count": 427,
   "id": "alpine-withdrawal",
   "metadata": {},
   "outputs": [
    {
     "data": {
      "text/html": [
       "<div>\n",
       "<style scoped>\n",
       "    .dataframe tbody tr th:only-of-type {\n",
       "        vertical-align: middle;\n",
       "    }\n",
       "\n",
       "    .dataframe tbody tr th {\n",
       "        vertical-align: top;\n",
       "    }\n",
       "\n",
       "    .dataframe thead th {\n",
       "        text-align: right;\n",
       "    }\n",
       "</style>\n",
       "<table border=\"1\" class=\"dataframe\">\n",
       "  <thead>\n",
       "    <tr style=\"text-align: right;\">\n",
       "      <th></th>\n",
       "      <th>imp</th>\n",
       "      <th>mean</th>\n",
       "      <th>std</th>\n",
       "    </tr>\n",
       "  </thead>\n",
       "  <tbody>\n",
       "    <tr>\n",
       "      <th>IBM</th>\n",
       "      <td>0.119147</td>\n",
       "      <td>0.102070</td>\n",
       "      <td>0.105541</td>\n",
       "    </tr>\n",
       "    <tr>\n",
       "      <th>AMD</th>\n",
       "      <td>0.058028</td>\n",
       "      <td>0.092241</td>\n",
       "      <td>0.131075</td>\n",
       "    </tr>\n",
       "    <tr>\n",
       "      <th>INTU</th>\n",
       "      <td>0.054211</td>\n",
       "      <td>0.042518</td>\n",
       "      <td>0.112493</td>\n",
       "    </tr>\n",
       "    <tr>\n",
       "      <th>GPS</th>\n",
       "      <td>0.052927</td>\n",
       "      <td>0.035029</td>\n",
       "      <td>0.060754</td>\n",
       "    </tr>\n",
       "    <tr>\n",
       "      <th>ALGN</th>\n",
       "      <td>0.049150</td>\n",
       "      <td>0.059995</td>\n",
       "      <td>0.116738</td>\n",
       "    </tr>\n",
       "  </tbody>\n",
       "</table>\n",
       "</div>"
      ],
      "text/plain": [
       "          imp     mean      std\n",
       "IBM  0.119147 0.102070 0.105541\n",
       "AMD  0.058028 0.092241 0.131075\n",
       "INTU 0.054211 0.042518 0.112493\n",
       "GPS  0.052927 0.035029 0.060754\n",
       "ALGN 0.049150 0.059995 0.116738"
      ]
     },
     "execution_count": 427,
     "metadata": {},
     "output_type": "execute_result"
    }
   ],
   "source": [
    "importances = gbf.feature_importances_\n",
    "mean = np.mean([tree[0].feature_importances_ for tree in list(gbf.estimators_)], axis=0)\n",
    "std = np.std([tree[0].feature_importances_ for tree in list(gbf.estimators_)], axis=0)\n",
    "\n",
    "pd.DataFrame({'imp': importances, 'mean': mean, 'std': std}, index= rhs.columns).sort_values(by='imp', ascending=False)[:5]"
   ]
  },
  {
   "cell_type": "code",
   "execution_count": 380,
   "id": "hired-walter",
   "metadata": {},
   "outputs": [
    {
     "data": {
      "text/plain": [
       "StackingClassifier(estimators=[('rf',\n",
       "                                DecisionTreeClassifier(ccp_alpha=0.046,\n",
       "                                                       criterion='entropy',\n",
       "                                                       max_depth=20,\n",
       "                                                       max_features=1.0,\n",
       "                                                       min_samples_leaf=0.05,\n",
       "                                                       min_samples_split=0.1,\n",
       "                                                       random_state=0)),\n",
       "                               ('gb',\n",
       "                                GradientBoostingClassifier(ccp_alpha=0.01,\n",
       "                                                           max_depth=5,\n",
       "                                                           max_features=0.8,\n",
       "                                                           min_samples_leaf=0.05,\n",
       "                                                           min_samples_split=0.1,\n",
       "                                                           n_iter_no_change=1,\n",
       "                                                           random_state=0))])"
      ]
     },
     "execution_count": 380,
     "metadata": {},
     "output_type": "execute_result"
    }
   ],
   "source": [
    "one = RandomForestClassifier(n_estimators=100, criterion='entropy', \n",
    "                             max_depth=20, min_samples_split=0.1, min_samples_leaf=0.05, \\\n",
    "                             max_features= 'auto', random_state=0, ccp_alpha=0.046)\n",
    "two = GradientBoostingClassifier(loss='deviance', learning_rate=0.1, n_estimators=100, \\\n",
    "                                 subsample=1.0, max_features=0.8, criterion='friedman_mse', \\\n",
    "                                 min_samples_split=0.1, min_samples_leaf=0.05, max_depth=5, \\\n",
    "                                 random_state=0, validation_fraction=0.1, n_iter_no_change = 1, ccp_alpha=0.01)\n",
    "\n",
    "one = clf\n",
    "two = gbf\n",
    "estimators = [('rf', one), ('gb', two)]\n",
    "\n",
    "sf = StackingClassifier(estimators)\n",
    "sf.fit(rhs, lhs)"
   ]
  },
  {
   "cell_type": "code",
   "execution_count": 381,
   "id": "together-canberra",
   "metadata": {},
   "outputs": [
    {
     "data": {
      "text/plain": [
       "array([[-0.07699178, -0.4672335 ]])"
      ]
     },
     "execution_count": 381,
     "metadata": {},
     "output_type": "execute_result"
    }
   ],
   "source": [
    "sf.final_estimator_.coef_"
   ]
  },
  {
   "cell_type": "code",
   "execution_count": 365,
   "id": "hazardous-meaning",
   "metadata": {},
   "outputs": [
    {
     "data": {
      "text/plain": [
       "array([[DecisionTreeRegressor(ccp_alpha=0.01, criterion='friedman_mse', max_depth=5,\n",
       "                      max_features=0.8, min_samples_leaf=0.05,\n",
       "                      min_samples_split=0.1,\n",
       "                      random_state=RandomState(MT19937) at 0x1FE19644048)],\n",
       "       [DecisionTreeRegressor(ccp_alpha=0.01, criterion='friedman_mse', max_depth=5,\n",
       "                      max_features=0.8, min_samples_leaf=0.05,\n",
       "                      min_samples_split=0.1,\n",
       "                      random_state=RandomState(MT19937) at 0x1FE19644048)],\n",
       "       [DecisionTreeRegressor(ccp_alpha=0.01, criterion='friedman_mse', max_depth=5,\n",
       "                      max_features=0.8, min_samples_leaf=0.05,\n",
       "                      min_samples_split=0.1,\n",
       "                      random_state=RandomState(MT19937) at 0x1FE19644048)]],\n",
       "      dtype=object)"
      ]
     },
     "execution_count": 365,
     "metadata": {},
     "output_type": "execute_result"
    }
   ],
   "source": [
    "sf.estimators[1][1].estimators_"
   ]
  },
  {
   "cell_type": "code",
   "execution_count": 343,
   "id": "practical-whale",
   "metadata": {},
   "outputs": [
    {
     "data": {
      "text/plain": [
       "DecisionTreeRegressor(ccp_alpha=0.01, criterion='friedman_mse', max_depth=5,\n",
       "                      max_features=0.8, min_samples_leaf=0.05,\n",
       "                      min_samples_split=0.1,\n",
       "                      random_state=RandomState(MT19937) at 0x1FE19644048)"
      ]
     },
     "execution_count": 343,
     "metadata": {},
     "output_type": "execute_result"
    }
   ],
   "source": [
    "list(gbf.estimators_)[1][0]"
   ]
  },
  {
   "cell_type": "code",
   "execution_count": 344,
   "id": "presidential-vancouver",
   "metadata": {},
   "outputs": [
    {
     "data": {
      "text/plain": [
       "[5, 5, 5]"
      ]
     },
     "execution_count": 344,
     "metadata": {},
     "output_type": "execute_result"
    }
   ],
   "source": [
    "[tree[0].get_depth() for tree in list(gbf.estimators_)]"
   ]
  },
  {
   "cell_type": "code",
   "execution_count": 347,
   "id": "every-large",
   "metadata": {},
   "outputs": [
    {
     "data": {
      "text/html": [
       "<div>\n",
       "<style scoped>\n",
       "    .dataframe tbody tr th:only-of-type {\n",
       "        vertical-align: middle;\n",
       "    }\n",
       "\n",
       "    .dataframe tbody tr th {\n",
       "        vertical-align: top;\n",
       "    }\n",
       "\n",
       "    .dataframe thead th {\n",
       "        text-align: right;\n",
       "    }\n",
       "</style>\n",
       "<table border=\"1\" class=\"dataframe\">\n",
       "  <thead>\n",
       "    <tr style=\"text-align: right;\">\n",
       "      <th></th>\n",
       "      <th>imp</th>\n",
       "      <th>mean</th>\n",
       "      <th>std</th>\n",
       "    </tr>\n",
       "  </thead>\n",
       "  <tbody>\n",
       "    <tr>\n",
       "      <th>IBM</th>\n",
       "      <td>0.133719</td>\n",
       "      <td>0.152197</td>\n",
       "      <td>0.112925</td>\n",
       "    </tr>\n",
       "    <tr>\n",
       "      <th>NTRS</th>\n",
       "      <td>0.058360</td>\n",
       "      <td>0.067374</td>\n",
       "      <td>0.095282</td>\n",
       "    </tr>\n",
       "    <tr>\n",
       "      <th>WYNN</th>\n",
       "      <td>0.056780</td>\n",
       "      <td>0.065550</td>\n",
       "      <td>0.092702</td>\n",
       "    </tr>\n",
       "    <tr>\n",
       "      <th>LHX</th>\n",
       "      <td>0.056199</td>\n",
       "      <td>0.062684</td>\n",
       "      <td>0.088648</td>\n",
       "    </tr>\n",
       "    <tr>\n",
       "      <th>AMD</th>\n",
       "      <td>0.055753</td>\n",
       "      <td>0.045062</td>\n",
       "      <td>0.063727</td>\n",
       "    </tr>\n",
       "  </tbody>\n",
       "</table>\n",
       "</div>"
      ],
      "text/plain": [
       "          imp     mean      std\n",
       "IBM  0.133719 0.152197 0.112925\n",
       "NTRS 0.058360 0.067374 0.095282\n",
       "WYNN 0.056780 0.065550 0.092702\n",
       "LHX  0.056199 0.062684 0.088648\n",
       "AMD  0.055753 0.045062 0.063727"
      ]
     },
     "execution_count": 347,
     "metadata": {},
     "output_type": "execute_result"
    }
   ],
   "source": [
    "importances = gbf.feature_importances_\n",
    "mean = np.mean([tree[0].feature_importances_ for tree in list(gbf.estimators_)], axis=0)\n",
    "std = np.std([tree[0].feature_importances_ for tree in list(gbf.estimators_)], axis=0)\n",
    "\n",
    "pd.DataFrame({'imp': importances, 'mean': mean, 'std': std}, index= rhs.columns).sort_values(by='imp', ascending=False)[:5]"
   ]
  },
  {
   "cell_type": "code",
   "execution_count": 310,
   "id": "weekly-ability",
   "metadata": {},
   "outputs": [
    {
     "data": {
      "text/plain": [
       "<sklearn.inspection._plot.partial_dependence.PartialDependenceDisplay at 0x1fe19243588>"
      ]
     },
     "execution_count": 310,
     "metadata": {},
     "output_type": "execute_result"
    },
    {
     "data": {
      "image/png": "[encoded data removed]",
      "text/plain": [
       "<Figure size 432x288 with 2 Axes>"
      ]
     },
     "metadata": {
      "needs_background": "light"
     },
     "output_type": "display_data"
    }
   ],
   "source": [
    "plot_partial_dependence(rlf, rhs, [36])"
   ]
  },
  {
   "cell_type": "code",
   "execution_count": 223,
   "id": "bronze-minute",
   "metadata": {},
   "outputs": [
    {
     "data": {
      "text/html": [
       "<div>\n",
       "<style scoped>\n",
       "    .dataframe tbody tr th:only-of-type {\n",
       "        vertical-align: middle;\n",
       "    }\n",
       "\n",
       "    .dataframe tbody tr th {\n",
       "        vertical-align: top;\n",
       "    }\n",
       "\n",
       "    .dataframe thead th {\n",
       "        text-align: right;\n",
       "    }\n",
       "</style>\n",
       "<table border=\"1\" class=\"dataframe\">\n",
       "  <thead>\n",
       "    <tr style=\"text-align: right;\">\n",
       "      <th></th>\n",
       "      <th>imp</th>\n",
       "      <th>mean</th>\n",
       "      <th>std</th>\n",
       "    </tr>\n",
       "  </thead>\n",
       "  <tbody>\n",
       "    <tr>\n",
       "      <th>SCHW</th>\n",
       "      <td>0.020948</td>\n",
       "      <td>0.020948</td>\n",
       "      <td>0.020948</td>\n",
       "    </tr>\n",
       "    <tr>\n",
       "      <th>IBM</th>\n",
       "      <td>0.019069</td>\n",
       "      <td>0.019069</td>\n",
       "      <td>0.019069</td>\n",
       "    </tr>\n",
       "    <tr>\n",
       "      <th>SLB</th>\n",
       "      <td>0.017704</td>\n",
       "      <td>0.017704</td>\n",
       "      <td>0.017704</td>\n",
       "    </tr>\n",
       "    <tr>\n",
       "      <th>STT</th>\n",
       "      <td>0.016978</td>\n",
       "      <td>0.016978</td>\n",
       "      <td>0.016978</td>\n",
       "    </tr>\n",
       "    <tr>\n",
       "      <th>MRK</th>\n",
       "      <td>0.016006</td>\n",
       "      <td>0.016006</td>\n",
       "      <td>0.016006</td>\n",
       "    </tr>\n",
       "  </tbody>\n",
       "</table>\n",
       "</div>"
      ],
      "text/plain": [
       "          imp     mean      std\n",
       "SCHW 0.020948 0.020948 0.020948\n",
       "IBM  0.019069 0.019069 0.019069\n",
       "SLB  0.017704 0.017704 0.017704\n",
       "STT  0.016978 0.016978 0.016978\n",
       "MRK  0.016006 0.016006 0.016006"
      ]
     },
     "execution_count": 223,
     "metadata": {},
     "output_type": "execute_result"
    }
   ],
   "source": [
    "importances = rlf.feature_importances_\n",
    "mean = np.mean([tree.feature_importances_ for tree in rlf.estimators_], axis=0)\n",
    "std = np.std([tree.feature_importances_ for tree in rlf.estimators_], axis=0)\n",
    "\n",
    "pd.DataFrame({'imp': importances, 'mean': mean, 'std': mean}, index= rhs.columns).sort_values(by='imp', ascending=False)[:5]"
   ]
  },
  {
   "cell_type": "code",
   "execution_count": 236,
   "id": "representative-pillow",
   "metadata": {},
   "outputs": [
    {
     "data": {
      "text/html": [
       "<div>\n",
       "<style scoped>\n",
       "    .dataframe tbody tr th:only-of-type {\n",
       "        vertical-align: middle;\n",
       "    }\n",
       "\n",
       "    .dataframe tbody tr th {\n",
       "        vertical-align: top;\n",
       "    }\n",
       "\n",
       "    .dataframe thead th {\n",
       "        text-align: right;\n",
       "    }\n",
       "</style>\n",
       "<table border=\"1\" class=\"dataframe\">\n",
       "  <thead>\n",
       "    <tr style=\"text-align: right;\">\n",
       "      <th></th>\n",
       "      <th>imp</th>\n",
       "    </tr>\n",
       "  </thead>\n",
       "  <tbody>\n",
       "    <tr>\n",
       "      <th>IBM</th>\n",
       "      <td>0.014286</td>\n",
       "    </tr>\n",
       "    <tr>\n",
       "      <th>GPS</th>\n",
       "      <td>0.009244</td>\n",
       "    </tr>\n",
       "    <tr>\n",
       "      <th>CAT</th>\n",
       "      <td>0.005042</td>\n",
       "    </tr>\n",
       "    <tr>\n",
       "      <th>MXIM</th>\n",
       "      <td>0.004202</td>\n",
       "    </tr>\n",
       "    <tr>\n",
       "      <th>CCI</th>\n",
       "      <td>0.004202</td>\n",
       "    </tr>\n",
       "  </tbody>\n",
       "</table>\n",
       "</div>"
      ],
      "text/plain": [
       "          imp\n",
       "IBM  0.014286\n",
       "GPS  0.009244\n",
       "CAT  0.005042\n",
       "MXIM 0.004202\n",
       "CCI  0.004202"
      ]
     },
     "execution_count": 236,
     "metadata": {},
     "output_type": "execute_result"
    }
   ],
   "source": [
    "perm_importance = permutation_importance(rlf, rhs, lhs)\n",
    "pd.DataFrame({'imp': perm_importance.importances_mean}, index= rhs.columns).sort_values(by='imp', ascending=False)[:5]"
   ]
  },
  {
   "cell_type": "code",
   "execution_count": 162,
   "id": "political-holder",
   "metadata": {},
   "outputs": [
    {
     "data": {
      "text/plain": [
       "Text(0.5, 1.0, 'Total Impurity vs effective alpha for training set')"
      ]
     },
     "execution_count": 162,
     "metadata": {},
     "output_type": "execute_result"
    },
    {
     "data": {
      "image/png": "[encoded data removed]",
      "text/plain": [
       "<Figure size 432x288 with 1 Axes>"
      ]
     },
     "metadata": {
      "needs_background": "light"
     },
     "output_type": "display_data"
    }
   ],
   "source": [
    "path = clf.cost_complexity_pruning_path(rhs, lhs)\n",
    "ccp_alphas, impurities = path.ccp_alphas, path.impurities\n",
    "\n",
    "fig, ax = plt.subplots()\n",
    "ax.plot(ccp_alphas[:-1], impurities[:-1], marker='o', drawstyle=\"steps-post\")\n",
    "ax.set_xlabel(\"effective alpha\")\n",
    "ax.set_ylabel(\"total impurity of leaves\")\n",
    "ax.set_title(\"Total Impurity vs effective alpha for training set\")"
   ]
  },
  {
   "cell_type": "code",
   "execution_count": 240,
   "id": "contemporary-carpet",
   "metadata": {},
   "outputs": [
    {
     "data": {
      "text/plain": [
       "5"
      ]
     },
     "execution_count": 240,
     "metadata": {},
     "output_type": "execute_result"
    }
   ],
   "source": [
    "clf.get_depth()"
   ]
  },
  {
   "cell_type": "code",
   "execution_count": 247,
   "id": "republican-spider",
   "metadata": {},
   "outputs": [
    {
     "data": {
      "image/png": "[encoded data removed]",
      "text/plain": [
       "<Figure size 432x288 with 1 Axes>"
      ]
     },
     "metadata": {
      "needs_background": "light"
     },
     "output_type": "display_data"
    }
   ],
   "source": [
    "plot_tree(clf, filled=True, feature_names=rhs.columns, class_names=['neg', 'pos'])\n",
    "plt.show()"
   ]
  },
  {
   "cell_type": "code",
   "execution_count": 27,
   "id": "sapphire-clearance",
   "metadata": {},
   "outputs": [
    {
     "data": {
      "text/html": [
       "<div>\n",
       "<style scoped>\n",
       "    .dataframe tbody tr th:only-of-type {\n",
       "        vertical-align: middle;\n",
       "    }\n",
       "\n",
       "    .dataframe tbody tr th {\n",
       "        vertical-align: top;\n",
       "    }\n",
       "\n",
       "    .dataframe thead th {\n",
       "        text-align: right;\n",
       "    }\n",
       "</style>\n",
       "<table border=\"1\" class=\"dataframe\">\n",
       "  <thead>\n",
       "    <tr style=\"text-align: right;\">\n",
       "      <th></th>\n",
       "      <th>col_name</th>\n",
       "    </tr>\n",
       "  </thead>\n",
       "  <tbody>\n",
       "    <tr>\n",
       "      <th>IBM</th>\n",
       "      <td>0.156739</td>\n",
       "    </tr>\n",
       "    <tr>\n",
       "      <th>C</th>\n",
       "      <td>0.113129</td>\n",
       "    </tr>\n",
       "    <tr>\n",
       "      <th>POOL</th>\n",
       "      <td>0.112771</td>\n",
       "    </tr>\n",
       "    <tr>\n",
       "      <th>CF</th>\n",
       "      <td>0.106758</td>\n",
       "    </tr>\n",
       "    <tr>\n",
       "      <th>SYY</th>\n",
       "      <td>0.103920</td>\n",
       "    </tr>\n",
       "  </tbody>\n",
       "</table>\n",
       "</div>"
      ],
      "text/plain": [
       "      col_name\n",
       "IBM   0.156739\n",
       "C     0.113129\n",
       "POOL  0.112771\n",
       "CF    0.106758\n",
       "SYY   0.103920"
      ]
     },
     "execution_count": 27,
     "metadata": {},
     "output_type": "execute_result"
    }
   ],
   "source": [
    "pd.DataFrame({'col_name': clf.feature_importances_}, index=rhs.columns).sort_values(by='col_name', ascending=False)[:5]"
   ]
  },
  {
   "cell_type": "code",
   "execution_count": 192,
   "id": "characteristic-presence",
   "metadata": {},
   "outputs": [
    {
     "data": {
      "image/png": "[encoded data removed]",
      "text/plain": [
       "<Figure size 432x288 with 1 Axes>"
      ]
     },
     "metadata": {
      "needs_background": "light"
     },
     "output_type": "display_data"
    }
   ],
   "source": [
    "plot_tree(bcf.estimators_[1], filled=True, feature_names=rhs.columns, class_names=['neg', 'pos'])\n",
    "plt.show()"
   ]
  },
  {
   "cell_type": "code",
   "execution_count": 257,
   "id": "beneficial-entity",
   "metadata": {},
   "outputs": [
    {
     "data": {
      "text/plain": [
       "((100, 10),\n",
       " <sklearn.inspection._plot.partial_dependence.PartialDependenceDisplay at 0x1fe15501148>)"
      ]
     },
     "execution_count": 257,
     "metadata": {},
     "output_type": "execute_result"
    },
    {
     "data": {
      "image/png": "[encoded data removed]",
      "text/plain": [
       "<Figure size 432x288 with 2 Axes>"
      ]
     },
     "metadata": {
      "needs_background": "light"
     },
     "output_type": "display_data"
    }
   ],
   "source": [
    "from sklearn.datasets import make_friedman1\n",
    "from sklearn.ensemble import GradientBoostingRegressor\n",
    "X, y = make_friedman1()\n",
    "clf = GradientBoostingRegressor(n_estimators=10).fit(X, y)\n",
    "X.shape, plot_partial_dependence(clf, X, [0])"
   ]
  },
  {
   "cell_type": "code",
   "execution_count": 346,
   "id": "comparable-square",
   "metadata": {},
   "outputs": [
    {
     "data": {
      "image/png": "[encoded data removed]",
      "text/plain": [
       "<Figure size 432x288 with 1 Axes>"
      ]
     },
     "metadata": {
      "needs_background": "light"
     },
     "output_type": "display_data"
    }
   ],
   "source": [
    "plot_tree(list(gbf.estimators_)[1][0], filled=True, feature_names=rhs.columns, class_names=['neg', 'pos'])\n",
    "plt.show()"
   ]
  },
  {
   "cell_type": "code",
   "execution_count": null,
   "id": "preliminary-raise",
   "metadata": {},
   "outputs": [],
   "source": []
  }
 ],
 "metadata": {
  "kernelspec": {
   "display_name": "Python 3",
   "language": "python",
   "name": "python3"
  },
  "language_info": {
   "codemirror_mode": {
    "name": "ipython",
    "version": 3
   },
   "file_extension": ".py",
   "mimetype": "text/x-python",
   "name": "python",
   "nbconvert_exporter": "python",
   "pygments_lexer": "ipython3",
   "version": "3.7.4"
  }
 },
 "nbformat": 4,
 "nbformat_minor": 5
}
