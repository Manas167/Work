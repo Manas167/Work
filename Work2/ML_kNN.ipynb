{
 "cells": [
  {
   "cell_type": "code",
   "execution_count": 58,
   "id": "prescription-seven",
   "metadata": {},
   "outputs": [],
   "source": [
    "# knn = neighbors.KNeighborsRegressor(n_neighbors = 5, weights= 'uniform')\n",
    "# y_pred = knn.fit(insample_data.drop(, 1), insample_data[[stock]]).predict(outsample_data.drop([stock], 1))"
   ]
  },
  {
   "cell_type": "code",
   "execution_count": 1,
   "id": "respiratory-volunteer",
   "metadata": {},
   "outputs": [],
   "source": [
    "# data = (clean_returns - clean_returns.mean(axis=0))/clean_returns.std(axis=0)\n",
    "# model = decomposition.FactorAnalysis(n_components=2,tol=1e-8,max_iter=1000)\n",
    "# model.fit(data)\n",
    "# Y = model.fit_transform(data)\n",
    "# data_comp = pd.DataFrame(np.dot(Y, (model.components_)), columns = data.columns, index = data.index)\n",
    "# fa_weights = pd.DataFrame(model.components_, columns = data.columns)"
   ]
  },
  {
   "cell_type": "code",
   "execution_count": 35,
   "id": "animated-picnic",
   "metadata": {},
   "outputs": [],
   "source": [
    "import pandas as pd\n",
    "import numpy as np\n",
    "import random\n",
    "import os\n",
    "from scipy import signal\n",
    "import statsmodels\n",
    "from scipy.stats import norm\n",
    "from math import factorial\n",
    "import time\n",
    "from scipy import stats\n",
    "import scipy as scipy\n",
    "import seaborn as sns\n",
    "import warnings\n",
    "warnings.filterwarnings(\"ignore\")\n",
    "pd.options.display.float_format = '{:,.6f}'.format\n",
    "np.set_printoptions(threshold=5)\n",
    "import matplotlib\n",
    "import matplotlib.pyplot as plt\n",
    "%matplotlib inline\n",
    "from matplotlib.pyplot import figure\n",
    "from sklearn import neighbors\n"
   ]
  },
  {
   "cell_type": "code",
   "execution_count": 3,
   "id": "backed-antigua",
   "metadata": {},
   "outputs": [],
   "source": [
    "import os\n",
    "from pandas_datareader import data as pdr\n",
    "import pandas as pd\n",
    "import yfinance as yf\n",
    "from sklearn import decomposition\n",
    "from sklearn.decomposition import SparsePCA\n",
    "\n",
    "yf.pdr_override()\n",
    "\n",
    "START_DATE = \"2010-01-01\"\n",
    "END_DATE = \"2015-01-01\""
   ]
  },
  {
   "cell_type": "code",
   "execution_count": 33,
   "id": "infinite-impact",
   "metadata": {},
   "outputs": [],
   "source": [
    "tickers_mapping = pd.read_csv('Tickers.csv',  encoding='latin-1')\n",
    "tickers_sorted = tickers_mapping.sort_values(['Sector']).Symbol\n",
    "tickers_mapping.index = tickers_mapping['Symbol']\n",
    "\n",
    "prices = pd.read_csv('stocks.csv')\n",
    "prices.index = pd.DatetimeIndex(prices['Unnamed: 0'])\n",
    "prices = prices.iloc[:,1:]\n",
    "index = pd.read_csv('index.csv')\n",
    "index.index = pd.DatetimeIndex(index['Date'])\n",
    "raw_prices = pd.concat([prices, index['Adj Close'].rename('INDEX')], axis=1)        \n",
    "\n",
    "returns = raw_prices.pct_change(1)\n",
    "std_returns = returns.div(returns.std(0), 1)\n",
    "betas = ((returns.rolling(60).corr(returns['INDEX']))*\\\n",
    "                            (returns.rolling(60).std().div(returns['INDEX'].rolling(60).std(),axis = 0))).shift(1)\n",
    "idio_returns = returns - betas.mul(returns['INDEX'], axis = 0)\n",
    "idio_std_returns = idio_returns.div(idio_returns.std(0), 1)\n",
    "\n",
    "clean_returns = returns.loc[:,tickers_sorted].dropna(0, how = 'all').dropna(1)\n",
    "clean_idio_returns = idio_returns.loc[:,tickers_sorted].dropna(0, how = 'all').dropna(1)\n",
    "clean_idio_std_returns = idio_std_returns.loc[:,tickers_sorted].dropna(0, how = 'all').dropna(1)"
   ]
  },
  {
   "cell_type": "code",
   "execution_count": 64,
   "id": "alternative-confidence",
   "metadata": {},
   "outputs": [],
   "source": [
    "tmp_returns = std_returns.dropna(0, how = 'all').dropna(1, how = 'all')"
   ]
  },
  {
   "cell_type": "code",
   "execution_count": 158,
   "id": "cathedral-stereo",
   "metadata": {},
   "outputs": [],
   "source": [
    "def KNN(stock, n_neighbors):\n",
    "\n",
    "    train_data = tmp_returns[tmp_returns[stock].isna() == False]\n",
    "    insample_data = train_data.loc[random.sample(list(train_data.index), 3*len(train_data.index)//4)]\n",
    "    outsample_data = train_data.loc[[i for i in train_data.index if i not in insample_data.index]]\n",
    "    final_test_data = pd.concat([insample_data, outsample_data], 0)\n",
    "\n",
    "    outsample_data[[stock]] = np.nan\n",
    "    final_train_data = pd.concat([insample_data, outsample_data], 0)\n",
    "\n",
    "    imputer = KNNImputer(n_neighbors = n_neighbors)\n",
    "    fill_data = pd.DataFrame(imputer.fit_transform(final_train_data), \\\n",
    "                             columns = final_train_data.columns, index = final_train_data.index)\n",
    "    print(stock, 'Error:', abs((fill_data[stock] - final_test_data[stock])[outsample_data.index]).median(), \n",
    "          'Mean:', abs((final_test_data[stock])[outsample_data.index]).median())\n",
    "    \n",
    "    return abs((fill_data[stock] - final_test_data[stock])[outsample_data.index]).median()\n"
   ]
  },
  {
   "cell_type": "code",
   "execution_count": 274,
   "id": "thirty-trash",
   "metadata": {},
   "outputs": [],
   "source": [
    "def KNN(stock, n_neighbors):\n",
    "\n",
    "    tmp_returns_wo_stock = tmp_returns.drop([stock], 1).dropna(0, how = 'all').dropna(1)\n",
    "    tmp_returns_w_stock = pd.concat([tmp_returns_wo_stock, \\\n",
    "                                  tmp_returns.loc[tmp_returns_wo_stock.index, stock]], 1)\n",
    "    \n",
    "    if tmp_returns_w_stock.isna().sum().sum() == 0:\n",
    "        return 0 \n",
    "    \n",
    "    train_data = tmp_returns_w_stock[tmp_returns_w_stock[stock].isna() == False]\n",
    "    insample_data = train_data.loc[random.sample(list(train_data.index), 3*len(train_data.index)//4)]\n",
    "    outsample_data = train_data.loc[[i for i in train_data.index if i not in insample_data.index]]\n",
    "    final_test_data = pd.concat([insample_data, outsample_data], 0)\n",
    "\n",
    "    outsample_data[[stock]] = np.nan\n",
    "    final_train_data = pd.concat([insample_data, outsample_data], 0)\n",
    "    \n",
    "    knn = neighbors.KNeighborsRegressor(n_neighbors = n_neighbors, metric='manhattan')\n",
    "    fill_data = knn.fit(insample_data.drop([stock], 1), insample_data[[stock]]).predict(outsample_data.drop([stock], 1))\n",
    "    fill_data = pd.DataFrame(fill_data, index=outsample_data.index, columns=[stock])\n",
    "    \n",
    "    print(stock, 'Error:', (abs((fill_data[stock] - final_test_data.loc[outsample_data.index, stock]))**1).median(), \n",
    "          'Mean:', abs((final_test_data.loc[outsample_data.index, stock])).median())\n",
    "          \n",
    "    imputer = KNNImputer(n_neighbors = n_neighbors)\n",
    "    fill_data2 = pd.DataFrame(imputer.fit_transform(final_train_data), \\\n",
    "                             columns = final_train_data.columns, index = final_train_data.index)\n",
    "    print(stock, 'Error:', (abs((fill_data2[stock] - final_test_data.loc[outsample_data.index, stock]))**1).median(), \n",
    "          'Mean:', abs((final_test_data.loc[outsample_data.index, stock])).median())"
   ]
  },
  {
   "cell_type": "code",
   "execution_count": 275,
   "id": "advance-photographer",
   "metadata": {},
   "outputs": [
    {
     "name": "stdout",
     "output_type": "stream",
     "text": [
      "ABBV Error: 0.5533165569159693 Mean: 0.6073743231892423\n",
      "ABBV Error: 0.5108557978784567 Mean: 0.6073743231892423\n"
     ]
    }
   ],
   "source": [
    "n_neighbors = 5\n",
    "KNN('ABBV', n_neighbors)"
   ]
  },
  {
   "cell_type": "code",
   "execution_count": 276,
   "id": "hawaiian-hammer",
   "metadata": {},
   "outputs": [
    {
     "name": "stdout",
     "output_type": "stream",
     "text": [
      "XYL Error: 0.44808797342857 Mean: 0.5558836370802263\n",
      "XYL Error: 0.48456455354595984 Mean: 0.5558836370802263\n",
      "XYL Error: 0.4561111276484619 Mean: 0.5887028615455252\n",
      "XYL Error: 0.4997986450453075 Mean: 0.5887028615455252\n",
      "XYL Error: 0.4567592891525101 Mean: 0.6003840743963802\n",
      "XYL Error: 0.49576809847954395 Mean: 0.6003840743963802\n",
      "XYL Error: 0.4197927522580927 Mean: 0.5520586939403458\n",
      "XYL Error: 0.41264747019736087 Mean: 0.5520586939403458\n",
      "XYL Error: 0.4075839897382476 Mean: 0.5922653328669987\n",
      "XYL Error: 0.43283008262161915 Mean: 0.5922653328669987\n",
      "XYL Error: 0.40578952890057796 Mean: 0.5242788327323861\n",
      "XYL Error: 0.3921504458179867 Mean: 0.5242788327323861\n",
      "XYL Error: 0.5291712267530757 Mean: 0.6535219539219463\n",
      "XYL Error: 0.5332341776162404 Mean: 0.6535219539219463\n",
      "XYL Error: 0.41019467131935416 Mean: 0.5721850607151274\n",
      "XYL Error: 0.4097728422445871 Mean: 0.5721850607151274\n",
      "XYL Error: 0.4546297322701634 Mean: 0.6689045200515951\n",
      "XYL Error: 0.4575775355302002 Mean: 0.6689045200515951\n",
      "ZTS Error: 0.6048202809996535 Mean: 0.6366548343306945\n",
      "ZTS Error: 0.6507817573656639 Mean: 0.6366548343306945\n",
      "ZTS Error: 0.5812979721329642 Mean: 0.6975697444682442\n",
      "ZTS Error: 0.5563108314088815 Mean: 0.6975697444682442\n",
      "ZTS Error: 0.5023376197802634 Mean: 0.5327612560224492\n",
      "ZTS Error: 0.48319860051626357 Mean: 0.5327612560224492\n",
      "ZTS Error: 0.5606541251771205 Mean: 0.5794957768604954\n",
      "ZTS Error: 0.5353888521298104 Mean: 0.5794957768604954\n",
      "ZTS Error: 0.6421978300234199 Mean: 0.5761823784801797\n",
      "ZTS Error: 0.6446709984141454 Mean: 0.5761823784801797\n",
      "ZTS Error: 0.6007451496304582 Mean: 0.6177386266698947\n",
      "ZTS Error: 0.5914875593603827 Mean: 0.6177386266698947\n",
      "ZTS Error: 0.5355096056302574 Mean: 0.5033433933249294\n",
      "ZTS Error: 0.5191974014488592 Mean: 0.5033433933249294\n",
      "ZTS Error: 0.5583128020653662 Mean: 0.5405953941805062\n",
      "ZTS Error: 0.5595018853716427 Mean: 0.5405953941805062\n",
      "ZTS Error: 0.5219674211925818 Mean: 0.5679969209541154\n",
      "ZTS Error: 0.4974775346838612 Mean: 0.5679969209541154\n",
      "ABBV Error: 0.7236789132796368 Mean: 0.611136304478984\n",
      "ABBV Error: 0.6049931576230131 Mean: 0.611136304478984\n",
      "ABBV Error: 0.597086671585014 Mean: 0.5631840732128133\n",
      "ABBV Error: 0.5648349697904544 Mean: 0.5631840732128133\n",
      "ABBV Error: 0.5419621289957184 Mean: 0.5625546267860555\n",
      "ABBV Error: 0.5445534265743083 Mean: 0.5625546267860555\n",
      "ABBV Error: 0.5149053221134685 Mean: 0.5917215121637627\n",
      "ABBV Error: 0.5601122627338202 Mean: 0.5917215121637627\n",
      "ABBV Error: 0.4984931880580009 Mean: 0.619932676910316\n",
      "ABBV Error: 0.5166758862176887 Mean: 0.619932676910316\n",
      "ABBV Error: 0.473148233784462 Mean: 0.5625546267860555\n",
      "ABBV Error: 0.5233863436855148 Mean: 0.5625546267860555\n",
      "ABBV Error: 0.558000500637817 Mean: 0.7214743041406457\n",
      "ABBV Error: 0.5905342067196331 Mean: 0.7214743041406457\n",
      "ABBV Error: 0.4432156429814803 Mean: 0.5835118633722126\n",
      "ABBV Error: 0.5256066713532261 Mean: 0.5835118633722126\n",
      "ABBV Error: 0.4728679174294895 Mean: 0.5693162391733078\n",
      "ABBV Error: 0.4911656694294909 Mean: 0.5693162391733078\n"
     ]
    }
   ],
   "source": [
    "stock_list = ['XYL', 'ZTS', 'ABBV']\n",
    "neighbors_list = 10\n",
    "table = pd.DataFrame(columns=stock_list)\n",
    "for stock in stock_list:\n",
    "    for n in range(1, neighbors_list):\n",
    "        table.loc[n, [stock]] = KNN(stock, n)"
   ]
  },
  {
   "cell_type": "code",
   "execution_count": 262,
   "id": "academic-status",
   "metadata": {},
   "outputs": [
    {
     "data": {
      "text/html": [
       "<div>\n",
       "<style scoped>\n",
       "    .dataframe tbody tr th:only-of-type {\n",
       "        vertical-align: middle;\n",
       "    }\n",
       "\n",
       "    .dataframe tbody tr th {\n",
       "        vertical-align: top;\n",
       "    }\n",
       "\n",
       "    .dataframe thead th {\n",
       "        text-align: right;\n",
       "    }\n",
       "</style>\n",
       "<table border=\"1\" class=\"dataframe\">\n",
       "  <thead>\n",
       "    <tr style=\"text-align: right;\">\n",
       "      <th></th>\n",
       "      <th>FDX</th>\n",
       "      <th>MCO</th>\n",
       "    </tr>\n",
       "  </thead>\n",
       "  <tbody>\n",
       "    <tr>\n",
       "      <th>1</th>\n",
       "      <td>0</td>\n",
       "      <td>0</td>\n",
       "    </tr>\n",
       "    <tr>\n",
       "      <th>2</th>\n",
       "      <td>0</td>\n",
       "      <td>0</td>\n",
       "    </tr>\n",
       "  </tbody>\n",
       "</table>\n",
       "</div>"
      ],
      "text/plain": [
       "   FDX  MCO\n",
       "1    0    0\n",
       "2    0    0"
      ]
     },
     "execution_count": 262,
     "metadata": {},
     "output_type": "execute_result"
    }
   ],
   "source": [
    "table"
   ]
  },
  {
   "cell_type": "code",
   "execution_count": null,
   "id": "covered-wonder",
   "metadata": {},
   "outputs": [],
   "source": []
  }
 ],
 "metadata": {
  "kernelspec": {
   "display_name": "Python 3",
   "language": "python",
   "name": "python3"
  },
  "language_info": {
   "codemirror_mode": {
    "name": "ipython",
    "version": 3
   },
   "file_extension": ".py",
   "mimetype": "text/x-python",
   "name": "python",
   "nbconvert_exporter": "python",
   "pygments_lexer": "ipython3",
   "version": "3.7.4"
  }
 },
 "nbformat": 4,
 "nbformat_minor": 5
}
